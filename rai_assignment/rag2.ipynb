{
 "cells": [
  {
   "cell_type": "markdown",
   "metadata": {},
   "source": [
    "# RAG 2: Fast and Free \n",
    "The second RAG pipeline leverages open source and local technologies, optimising for fast performance and free implementation."
   ]
  },
  {
   "cell_type": "code",
   "execution_count": 2,
   "metadata": {},
   "outputs": [
    {
     "name": "stdout",
     "output_type": "stream",
     "text": [
      "Started /Users/mzhao/.cache/weaviate-embedded: process ID 27471\n"
     ]
    },
    {
     "name": "stderr",
     "output_type": "stream",
     "text": [
      "{\"action\":\"startup\",\"default_vectorizer_module\":\"none\",\"level\":\"info\",\"msg\":\"the default vectorizer modules is set to \\\"none\\\", as a result all new schema classes without an explicit vectorizer setting, will use this vectorizer\",\"time\":\"2024-04-16T12:16:48+10:00\"}\n",
      "{\"action\":\"startup\",\"auto_schema_enabled\":true,\"level\":\"info\",\"msg\":\"auto schema enabled setting is set to \\\"true\\\"\",\"time\":\"2024-04-16T12:16:48+10:00\"}\n",
      "{\"level\":\"info\",\"msg\":\"No resource limits set, weaviate will use all available memory and CPU. To limit resources, set LIMIT_RESOURCES=true\",\"time\":\"2024-04-16T12:16:48+10:00\"}\n",
      "{\"level\":\"warning\",\"msg\":\"Multiple vector spaces are present, GraphQL Explore and REST API list objects endpoint module include params has been disabled as a result.\",\"time\":\"2024-04-16T12:16:48+10:00\"}\n",
      "{\"action\":\"grpc_startup\",\"level\":\"info\",\"msg\":\"grpc server listening at [::]:50060\",\"time\":\"2024-04-16T12:16:48+10:00\"}\n",
      "{\"action\":\"restapi_management\",\"level\":\"info\",\"msg\":\"Serving weaviate at http://127.0.0.1:8079\",\"time\":\"2024-04-16T12:16:48+10:00\"}\n",
      "/Users/mzhao/sei/rai-assignment/.venv/lib/python3.11/site-packages/weaviate/warnings.py:121: DeprecationWarning: Dep005: You are using weaviate-client version 3.26.2. The latest version is 4.5.5.\n",
      "            Please consider upgrading to the latest version. See https://weaviate.io/developers/weaviate/client-libraries/python for details.\n",
      "  warnings.warn(\n",
      "{\"action\":\"lsm_recover_from_active_wal\",\"class\":\"PaulGraham2\",\"index\":\"paulgraham2\",\"level\":\"warning\",\"msg\":\"active write-ahead-log found. Did weaviate crash prior to this? Trying to recover...\",\"path\":\"/Users/mzhao/.local/share/weaviate/paulgraham2/ysA4qoc4ouef/lsm/objects/segment-1713228049652901000.wal\",\"shard\":\"ysA4qoc4ouef\",\"time\":\"2024-04-16T12:16:49+10:00\"}\n",
      "{\"action\":\"lsm_recover_from_active_wal_success\",\"class\":\"PaulGraham2\",\"index\":\"paulgraham2\",\"level\":\"info\",\"msg\":\"successfully recovered from write-ahead-log\",\"path\":\"/Users/mzhao/.local/share/weaviate/paulgraham2/ysA4qoc4ouef/lsm/objects/segment-1713228049652901000.wal\",\"shard\":\"ysA4qoc4ouef\",\"time\":\"2024-04-16T12:16:49+10:00\"}\n",
      "{\"action\":\"lsm_recover_from_active_wal\",\"class\":\"PaulGraham2\",\"index\":\"paulgraham2\",\"level\":\"warning\",\"msg\":\"active write-ahead-log found. Did weaviate crash prior to this? Trying to recover...\",\"path\":\"/Users/mzhao/.local/share/weaviate/paulgraham2/ysA4qoc4ouef/lsm/property_node_info/segment-1713228049654680000.wal\",\"shard\":\"ysA4qoc4ouef\",\"time\":\"2024-04-16T12:16:49+10:00\"}\n",
      "{\"action\":\"lsm_recover_from_active_wal_success\",\"class\":\"PaulGraham2\",\"index\":\"paulgraham2\",\"level\":\"info\",\"msg\":\"successfully recovered from write-ahead-log\",\"path\":\"/Users/mzhao/.local/share/weaviate/paulgraham2/ysA4qoc4ouef/lsm/property_node_info/segment-1713228049654680000.wal\",\"shard\":\"ysA4qoc4ouef\",\"time\":\"2024-04-16T12:16:49+10:00\"}\n",
      "{\"action\":\"lsm_recover_from_active_wal\",\"class\":\"PaulGraham2\",\"index\":\"paulgraham2\",\"level\":\"warning\",\"msg\":\"active write-ahead-log found. Did weaviate crash prior to this? Trying to recover...\",\"path\":\"/Users/mzhao/.local/share/weaviate/paulgraham2/ysA4qoc4ouef/lsm/property__node_content/segment-1713228049663300000.wal\",\"shard\":\"ysA4qoc4ouef\",\"time\":\"2024-04-16T12:16:49+10:00\"}\n",
      "{\"action\":\"lsm_recover_from_active_wal\",\"class\":\"PaulGraham2\",\"index\":\"paulgraham2\",\"level\":\"warning\",\"msg\":\"active write-ahead-log found. Did weaviate crash prior to this? Trying to recover...\",\"path\":\"/Users/mzhao/.local/share/weaviate/paulgraham2/ysA4qoc4ouef/lsm/property__id/segment-1713228049657344000.wal\",\"shard\":\"ysA4qoc4ouef\",\"time\":\"2024-04-16T12:16:49+10:00\"}\n",
      "{\"action\":\"lsm_recover_from_active_wal\",\"class\":\"PaulGraham2\",\"index\":\"paulgraham2\",\"level\":\"warning\",\"msg\":\"active write-ahead-log found. Did weaviate crash prior to this? Trying to recover...\",\"path\":\"/Users/mzhao/.local/share/weaviate/paulgraham2/ysA4qoc4ouef/lsm/property_file_type/segment-1713228049660080000.wal\",\"shard\":\"ysA4qoc4ouef\",\"time\":\"2024-04-16T12:16:49+10:00\"}\n",
      "{\"action\":\"lsm_recover_from_active_wal\",\"class\":\"PaulGraham2\",\"index\":\"paulgraham2\",\"level\":\"warning\",\"msg\":\"active write-ahead-log found. Did weaviate crash prior to this? Trying to recover...\",\"path\":\"/Users/mzhao/.local/share/weaviate/paulgraham2/ysA4qoc4ouef/lsm/property_node_info_searchable/segment-1713228049656540000.wal\",\"shard\":\"ysA4qoc4ouef\",\"time\":\"2024-04-16T12:16:49+10:00\"}\n",
      "{\"action\":\"lsm_recover_from_active_wal_success\",\"class\":\"PaulGraham2\",\"index\":\"paulgraham2\",\"level\":\"info\",\"msg\":\"successfully recovered from write-ahead-log\",\"path\":\"/Users/mzhao/.local/share/weaviate/paulgraham2/ysA4qoc4ouef/lsm/property_file_type/segment-1713228049660080000.wal\",\"shard\":\"ysA4qoc4ouef\",\"time\":\"2024-04-16T12:16:49+10:00\"}\n",
      "{\"action\":\"lsm_recover_from_active_wal_success\",\"class\":\"PaulGraham2\",\"index\":\"paulgraham2\",\"level\":\"info\",\"msg\":\"successfully recovered from write-ahead-log\",\"path\":\"/Users/mzhao/.local/share/weaviate/paulgraham2/ysA4qoc4ouef/lsm/property__node_content/segment-1713228049663300000.wal\",\"shard\":\"ysA4qoc4ouef\",\"time\":\"2024-04-16T12:16:49+10:00\"}\n",
      "{\"action\":\"lsm_recover_from_active_wal_success\",\"class\":\"PaulGraham2\",\"index\":\"paulgraham2\",\"level\":\"info\",\"msg\":\"successfully recovered from write-ahead-log\",\"path\":\"/Users/mzhao/.local/share/weaviate/paulgraham2/ysA4qoc4ouef/lsm/property__id/segment-1713228049657344000.wal\",\"shard\":\"ysA4qoc4ouef\",\"time\":\"2024-04-16T12:16:49+10:00\"}\n",
      "{\"action\":\"lsm_recover_from_active_wal_success\",\"class\":\"PaulGraham2\",\"index\":\"paulgraham2\",\"level\":\"info\",\"msg\":\"successfully recovered from write-ahead-log\",\"path\":\"/Users/mzhao/.local/share/weaviate/paulgraham2/ysA4qoc4ouef/lsm/property_node_info_searchable/segment-1713228049656540000.wal\",\"shard\":\"ysA4qoc4ouef\",\"time\":\"2024-04-16T12:16:49+10:00\"}\n",
      "{\"action\":\"lsm_recover_from_active_wal\",\"class\":\"PaulGraham2\",\"index\":\"paulgraham2\",\"level\":\"warning\",\"msg\":\"active write-ahead-log found. Did weaviate crash prior to this? Trying to recover...\",\"path\":\"/Users/mzhao/.local/share/weaviate/paulgraham2/ysA4qoc4ouef/lsm/property_file_path/segment-1713228049656956000.wal\",\"shard\":\"ysA4qoc4ouef\",\"time\":\"2024-04-16T12:16:49+10:00\"}\n",
      "{\"action\":\"lsm_recover_from_active_wal\",\"class\":\"PaulGraham2\",\"index\":\"paulgraham2\",\"level\":\"warning\",\"msg\":\"active write-ahead-log found. Did weaviate crash prior to this? Trying to recover...\",\"path\":\"/Users/mzhao/.local/share/weaviate/paulgraham2/ysA4qoc4ouef/lsm/property_last_modified_date/segment-1713228049657183000.wal\",\"shard\":\"ysA4qoc4ouef\",\"time\":\"2024-04-16T12:16:49+10:00\"}\n",
      "{\"action\":\"lsm_recover_from_active_wal\",\"class\":\"PaulGraham2\",\"index\":\"paulgraham2\",\"level\":\"warning\",\"msg\":\"active write-ahead-log found. Did weaviate crash prior to this? Trying to recover...\",\"path\":\"/Users/mzhao/.local/share/weaviate/paulgraham2/ysA4qoc4ouef/lsm/property_file_size/segment-1713228049658840000.wal\",\"shard\":\"ysA4qoc4ouef\",\"time\":\"2024-04-16T12:16:49+10:00\"}\n",
      "{\"action\":\"lsm_recover_from_active_wal_success\",\"class\":\"PaulGraham2\",\"index\":\"paulgraham2\",\"level\":\"info\",\"msg\":\"successfully recovered from write-ahead-log\",\"path\":\"/Users/mzhao/.local/share/weaviate/paulgraham2/ysA4qoc4ouef/lsm/property_last_modified_date/segment-1713228049657183000.wal\",\"shard\":\"ysA4qoc4ouef\",\"time\":\"2024-04-16T12:16:49+10:00\"}\n",
      "{\"action\":\"lsm_recover_from_active_wal\",\"class\":\"PaulGraham2\",\"index\":\"paulgraham2\",\"level\":\"warning\",\"msg\":\"active write-ahead-log found. Did weaviate crash prior to this? Trying to recover...\",\"path\":\"/Users/mzhao/.local/share/weaviate/paulgraham2/ysA4qoc4ouef/lsm/property_relationships/segment-1713228049657611000.wal\",\"shard\":\"ysA4qoc4ouef\",\"time\":\"2024-04-16T12:16:49+10:00\"}\n",
      "{\"action\":\"lsm_recover_from_active_wal_success\",\"class\":\"PaulGraham2\",\"index\":\"paulgraham2\",\"level\":\"info\",\"msg\":\"successfully recovered from write-ahead-log\",\"path\":\"/Users/mzhao/.local/share/weaviate/paulgraham2/ysA4qoc4ouef/lsm/property_file_path/segment-1713228049656956000.wal\",\"shard\":\"ysA4qoc4ouef\",\"time\":\"2024-04-16T12:16:49+10:00\"}\n",
      "{\"action\":\"lsm_recover_from_active_wal_success\",\"class\":\"PaulGraham2\",\"index\":\"paulgraham2\",\"level\":\"info\",\"msg\":\"successfully recovered from write-ahead-log\",\"path\":\"/Users/mzhao/.local/share/weaviate/paulgraham2/ysA4qoc4ouef/lsm/property_relationships/segment-1713228049657611000.wal\",\"shard\":\"ysA4qoc4ouef\",\"time\":\"2024-04-16T12:16:49+10:00\"}\n",
      "{\"action\":\"lsm_recover_from_active_wal\",\"class\":\"PaulGraham2\",\"index\":\"paulgraham2\",\"level\":\"warning\",\"msg\":\"active write-ahead-log found. Did weaviate crash prior to this? Trying to recover...\",\"path\":\"/Users/mzhao/.local/share/weaviate/paulgraham2/ysA4qoc4ouef/lsm/property_file_type_searchable/segment-1713228049662669000.wal\",\"shard\":\"ysA4qoc4ouef\",\"time\":\"2024-04-16T12:16:49+10:00\"}\n",
      "{\"action\":\"lsm_recover_from_active_wal\",\"class\":\"PaulGraham2\",\"index\":\"paulgraham2\",\"level\":\"warning\",\"msg\":\"active write-ahead-log found. Did weaviate crash prior to this? Trying to recover...\",\"path\":\"/Users/mzhao/.local/share/weaviate/paulgraham2/ysA4qoc4ouef/lsm/property_text/segment-1713228049656037000.wal\",\"shard\":\"ysA4qoc4ouef\",\"time\":\"2024-04-16T12:16:49+10:00\"}\n",
      "{\"action\":\"lsm_recover_from_active_wal\",\"class\":\"PaulGraham2\",\"index\":\"paulgraham2\",\"level\":\"warning\",\"msg\":\"active write-ahead-log found. Did weaviate crash prior to this? Trying to recover...\",\"path\":\"/Users/mzhao/.local/share/weaviate/paulgraham2/ysA4qoc4ouef/lsm/property__node_content_searchable/segment-1713228049664492000.wal\",\"shard\":\"ysA4qoc4ouef\",\"time\":\"2024-04-16T12:16:49+10:00\"}\n",
      "{\"action\":\"lsm_recover_from_active_wal_success\",\"class\":\"PaulGraham2\",\"index\":\"paulgraham2\",\"level\":\"info\",\"msg\":\"successfully recovered from write-ahead-log\",\"path\":\"/Users/mzhao/.local/share/weaviate/paulgraham2/ysA4qoc4ouef/lsm/property_file_type_searchable/segment-1713228049662669000.wal\",\"shard\":\"ysA4qoc4ouef\",\"time\":\"2024-04-16T12:16:49+10:00\"}\n",
      "{\"action\":\"lsm_recover_from_active_wal\",\"class\":\"PaulGraham2\",\"index\":\"paulgraham2\",\"level\":\"warning\",\"msg\":\"active write-ahead-log found. Did weaviate crash prior to this? Trying to recover...\",\"path\":\"/Users/mzhao/.local/share/weaviate/paulgraham2/ysA4qoc4ouef/lsm/property_creation_date/segment-1713228049661817000.wal\",\"shard\":\"ysA4qoc4ouef\",\"time\":\"2024-04-16T12:16:49+10:00\"}\n",
      "{\"action\":\"lsm_recover_from_active_wal_success\",\"class\":\"PaulGraham2\",\"index\":\"paulgraham2\",\"level\":\"info\",\"msg\":\"successfully recovered from write-ahead-log\",\"path\":\"/Users/mzhao/.local/share/weaviate/paulgraham2/ysA4qoc4ouef/lsm/property_text/segment-1713228049656037000.wal\",\"shard\":\"ysA4qoc4ouef\",\"time\":\"2024-04-16T12:16:49+10:00\"}\n",
      "{\"action\":\"lsm_recover_from_active_wal\",\"class\":\"PaulGraham2\",\"index\":\"paulgraham2\",\"level\":\"warning\",\"msg\":\"active write-ahead-log found. Did weaviate crash prior to this? Trying to recover...\",\"path\":\"/Users/mzhao/.local/share/weaviate/paulgraham2/ysA4qoc4ouef/lsm/property_last_modified_date_searchable/segment-1713228049659450000.wal\",\"shard\":\"ysA4qoc4ouef\",\"time\":\"2024-04-16T12:16:49+10:00\"}\n",
      "{\"action\":\"lsm_recover_from_active_wal\",\"class\":\"PaulGraham2\",\"index\":\"paulgraham2\",\"level\":\"warning\",\"msg\":\"active write-ahead-log found. Did weaviate crash prior to this? Trying to recover...\",\"path\":\"/Users/mzhao/.local/share/weaviate/paulgraham2/ysA4qoc4ouef/lsm/property_file_name/segment-1713228049659554000.wal\",\"shard\":\"ysA4qoc4ouef\",\"time\":\"2024-04-16T12:16:49+10:00\"}\n",
      "{\"action\":\"lsm_recover_from_active_wal_success\",\"class\":\"PaulGraham2\",\"index\":\"paulgraham2\",\"level\":\"info\",\"msg\":\"successfully recovered from write-ahead-log\",\"path\":\"/Users/mzhao/.local/share/weaviate/paulgraham2/ysA4qoc4ouef/lsm/property__node_content_searchable/segment-1713228049664492000.wal\",\"shard\":\"ysA4qoc4ouef\",\"time\":\"2024-04-16T12:16:49+10:00\"}\n",
      "{\"action\":\"lsm_recover_from_active_wal_success\",\"class\":\"PaulGraham2\",\"index\":\"paulgraham2\",\"level\":\"info\",\"msg\":\"successfully recovered from write-ahead-log\",\"path\":\"/Users/mzhao/.local/share/weaviate/paulgraham2/ysA4qoc4ouef/lsm/property_file_name/segment-1713228049659554000.wal\",\"shard\":\"ysA4qoc4ouef\",\"time\":\"2024-04-16T12:16:49+10:00\"}\n",
      "{\"action\":\"lsm_recover_from_active_wal_success\",\"class\":\"PaulGraham2\",\"index\":\"paulgraham2\",\"level\":\"info\",\"msg\":\"successfully recovered from write-ahead-log\",\"path\":\"/Users/mzhao/.local/share/weaviate/paulgraham2/ysA4qoc4ouef/lsm/property_creation_date/segment-1713228049661817000.wal\",\"shard\":\"ysA4qoc4ouef\",\"time\":\"2024-04-16T12:16:49+10:00\"}\n",
      "{\"action\":\"lsm_recover_from_active_wal_success\",\"class\":\"PaulGraham2\",\"index\":\"paulgraham2\",\"level\":\"info\",\"msg\":\"successfully recovered from write-ahead-log\",\"path\":\"/Users/mzhao/.local/share/weaviate/paulgraham2/ysA4qoc4ouef/lsm/property_last_modified_date_searchable/segment-1713228049659450000.wal\",\"shard\":\"ysA4qoc4ouef\",\"time\":\"2024-04-16T12:16:49+10:00\"}\n",
      "{\"action\":\"lsm_recover_from_active_wal\",\"class\":\"PaulGraham2\",\"index\":\"paulgraham2\",\"level\":\"warning\",\"msg\":\"active write-ahead-log found. Did weaviate crash prior to this? Trying to recover...\",\"path\":\"/Users/mzhao/.local/share/weaviate/paulgraham2/ysA4qoc4ouef/lsm/property_ref_doc_id/segment-1713228049657460000.wal\",\"shard\":\"ysA4qoc4ouef\",\"time\":\"2024-04-16T12:16:49+10:00\"}\n",
      "{\"action\":\"lsm_recover_from_active_wal\",\"class\":\"PaulGraham2\",\"index\":\"paulgraham2\",\"level\":\"warning\",\"msg\":\"active write-ahead-log found. Did weaviate crash prior to this? Trying to recover...\",\"path\":\"/Users/mzhao/.local/share/weaviate/paulgraham2/ysA4qoc4ouef/lsm/property_file_path_searchable/segment-1713228049658934000.wal\",\"shard\":\"ysA4qoc4ouef\",\"time\":\"2024-04-16T12:16:49+10:00\"}\n",
      "{\"action\":\"lsm_recover_from_active_wal_success\",\"class\":\"PaulGraham2\",\"index\":\"paulgraham2\",\"level\":\"info\",\"msg\":\"successfully recovered from write-ahead-log\",\"path\":\"/Users/mzhao/.local/share/weaviate/paulgraham2/ysA4qoc4ouef/lsm/property_ref_doc_id/segment-1713228049657460000.wal\",\"shard\":\"ysA4qoc4ouef\",\"time\":\"2024-04-16T12:16:49+10:00\"}\n",
      "{\"action\":\"lsm_recover_from_active_wal_success\",\"class\":\"PaulGraham2\",\"index\":\"paulgraham2\",\"level\":\"info\",\"msg\":\"successfully recovered from write-ahead-log\",\"path\":\"/Users/mzhao/.local/share/weaviate/paulgraham2/ysA4qoc4ouef/lsm/property_file_path_searchable/segment-1713228049658934000.wal\",\"shard\":\"ysA4qoc4ouef\",\"time\":\"2024-04-16T12:16:49+10:00\"}\n",
      "{\"action\":\"lsm_recover_from_active_wal\",\"class\":\"PaulGraham2\",\"index\":\"paulgraham2\",\"level\":\"warning\",\"msg\":\"active write-ahead-log found. Did weaviate crash prior to this? Trying to recover...\",\"path\":\"/Users/mzhao/.local/share/weaviate/paulgraham2/ysA4qoc4ouef/lsm/property_text_searchable/segment-1713228049658158000.wal\",\"shard\":\"ysA4qoc4ouef\",\"time\":\"2024-04-16T12:16:49+10:00\"}\n",
      "{\"action\":\"lsm_recover_from_active_wal_success\",\"class\":\"PaulGraham2\",\"index\":\"paulgraham2\",\"level\":\"info\",\"msg\":\"successfully recovered from write-ahead-log\",\"path\":\"/Users/mzhao/.local/share/weaviate/paulgraham2/ysA4qoc4ouef/lsm/property_file_size/segment-1713228049658840000.wal\",\"shard\":\"ysA4qoc4ouef\",\"time\":\"2024-04-16T12:16:49+10:00\"}\n",
      "{\"action\":\"lsm_recover_from_active_wal\",\"class\":\"PaulGraham2\",\"index\":\"paulgraham2\",\"level\":\"warning\",\"msg\":\"active write-ahead-log found. Did weaviate crash prior to this? Trying to recover...\",\"path\":\"/Users/mzhao/.local/share/weaviate/paulgraham2/ysA4qoc4ouef/lsm/property_relationships_searchable/segment-1713228049658366000.wal\",\"shard\":\"ysA4qoc4ouef\",\"time\":\"2024-04-16T12:16:49+10:00\"}\n",
      "{\"action\":\"lsm_recover_from_active_wal\",\"class\":\"PaulGraham2\",\"index\":\"paulgraham2\",\"level\":\"warning\",\"msg\":\"active write-ahead-log found. Did weaviate crash prior to this? Trying to recover...\",\"path\":\"/Users/mzhao/.local/share/weaviate/paulgraham2/ysA4qoc4ouef/lsm/property_document_id/segment-1713228049656007000.wal\",\"shard\":\"ysA4qoc4ouef\",\"time\":\"2024-04-16T12:16:49+10:00\"}\n",
      "{\"action\":\"lsm_recover_from_active_wal_success\",\"class\":\"PaulGraham2\",\"index\":\"paulgraham2\",\"level\":\"info\",\"msg\":\"successfully recovered from write-ahead-log\",\"path\":\"/Users/mzhao/.local/share/weaviate/paulgraham2/ysA4qoc4ouef/lsm/property_text_searchable/segment-1713228049658158000.wal\",\"shard\":\"ysA4qoc4ouef\",\"time\":\"2024-04-16T12:16:49+10:00\"}\n",
      "{\"action\":\"lsm_recover_from_active_wal_success\",\"class\":\"PaulGraham2\",\"index\":\"paulgraham2\",\"level\":\"info\",\"msg\":\"successfully recovered from write-ahead-log\",\"path\":\"/Users/mzhao/.local/share/weaviate/paulgraham2/ysA4qoc4ouef/lsm/property_relationships_searchable/segment-1713228049658366000.wal\",\"shard\":\"ysA4qoc4ouef\",\"time\":\"2024-04-16T12:16:49+10:00\"}\n",
      "{\"action\":\"lsm_recover_from_active_wal\",\"class\":\"PaulGraham2\",\"index\":\"paulgraham2\",\"level\":\"warning\",\"msg\":\"active write-ahead-log found. Did weaviate crash prior to this? Trying to recover...\",\"path\":\"/Users/mzhao/.local/share/weaviate/paulgraham2/ysA4qoc4ouef/lsm/property__node_type/segment-1713228049657177000.wal\",\"shard\":\"ysA4qoc4ouef\",\"time\":\"2024-04-16T12:16:49+10:00\"}\n",
      "{\"action\":\"lsm_recover_from_active_wal\",\"class\":\"PaulGraham2\",\"index\":\"paulgraham2\",\"level\":\"warning\",\"msg\":\"active write-ahead-log found. Did weaviate crash prior to this? Trying to recover...\",\"path\":\"/Users/mzhao/.local/share/weaviate/paulgraham2/ysA4qoc4ouef/lsm/property_creation_date_searchable/segment-1713228049663844000.wal\",\"shard\":\"ysA4qoc4ouef\",\"time\":\"2024-04-16T12:16:49+10:00\"}\n",
      "{\"action\":\"lsm_recover_from_active_wal_success\",\"class\":\"PaulGraham2\",\"index\":\"paulgraham2\",\"level\":\"info\",\"msg\":\"successfully recovered from write-ahead-log\",\"path\":\"/Users/mzhao/.local/share/weaviate/paulgraham2/ysA4qoc4ouef/lsm/property__node_type/segment-1713228049657177000.wal\",\"shard\":\"ysA4qoc4ouef\",\"time\":\"2024-04-16T12:16:49+10:00\"}\n",
      "{\"action\":\"lsm_recover_from_active_wal_success\",\"class\":\"PaulGraham2\",\"index\":\"paulgraham2\",\"level\":\"info\",\"msg\":\"successfully recovered from write-ahead-log\",\"path\":\"/Users/mzhao/.local/share/weaviate/paulgraham2/ysA4qoc4ouef/lsm/property_creation_date_searchable/segment-1713228049663844000.wal\",\"shard\":\"ysA4qoc4ouef\",\"time\":\"2024-04-16T12:16:49+10:00\"}\n",
      "{\"action\":\"lsm_recover_from_active_wal\",\"class\":\"PaulGraham2\",\"index\":\"paulgraham2\",\"level\":\"warning\",\"msg\":\"active write-ahead-log found. Did weaviate crash prior to this? Trying to recover...\",\"path\":\"/Users/mzhao/.local/share/weaviate/paulgraham2/ysA4qoc4ouef/lsm/property_file_name_searchable/segment-1713228049663373000.wal\",\"shard\":\"ysA4qoc4ouef\",\"time\":\"2024-04-16T12:16:49+10:00\"}\n",
      "{\"action\":\"lsm_recover_from_active_wal_success\",\"class\":\"PaulGraham2\",\"index\":\"paulgraham2\",\"level\":\"info\",\"msg\":\"successfully recovered from write-ahead-log\",\"path\":\"/Users/mzhao/.local/share/weaviate/paulgraham2/ysA4qoc4ouef/lsm/property_document_id/segment-1713228049656007000.wal\",\"shard\":\"ysA4qoc4ouef\",\"time\":\"2024-04-16T12:16:49+10:00\"}\n",
      "{\"action\":\"lsm_recover_from_active_wal\",\"class\":\"PaulGraham2\",\"index\":\"paulgraham2\",\"level\":\"warning\",\"msg\":\"active write-ahead-log found. Did weaviate crash prior to this? Trying to recover...\",\"path\":\"/Users/mzhao/.local/share/weaviate/paulgraham2/ysA4qoc4ouef/lsm/property_doc_id/segment-1713228049661289000.wal\",\"shard\":\"ysA4qoc4ouef\",\"time\":\"2024-04-16T12:16:49+10:00\"}\n",
      "{\"action\":\"lsm_recover_from_active_wal_success\",\"class\":\"PaulGraham2\",\"index\":\"paulgraham2\",\"level\":\"info\",\"msg\":\"successfully recovered from write-ahead-log\",\"path\":\"/Users/mzhao/.local/share/weaviate/paulgraham2/ysA4qoc4ouef/lsm/property_file_name_searchable/segment-1713228049663373000.wal\",\"shard\":\"ysA4qoc4ouef\",\"time\":\"2024-04-16T12:16:49+10:00\"}\n",
      "{\"action\":\"lsm_recover_from_active_wal_success\",\"class\":\"PaulGraham2\",\"index\":\"paulgraham2\",\"level\":\"info\",\"msg\":\"successfully recovered from write-ahead-log\",\"path\":\"/Users/mzhao/.local/share/weaviate/paulgraham2/ysA4qoc4ouef/lsm/property_doc_id/segment-1713228049661289000.wal\",\"shard\":\"ysA4qoc4ouef\",\"time\":\"2024-04-16T12:16:49+10:00\"}\n",
      "{\"action\":\"lsm_recover_from_active_wal\",\"class\":\"PaulGraham2\",\"index\":\"paulgraham2\",\"level\":\"warning\",\"msg\":\"active write-ahead-log found. Did weaviate crash prior to this? Trying to recover...\",\"path\":\"/Users/mzhao/.local/share/weaviate/paulgraham2/ysA4qoc4ouef/lsm/property_ref_doc_id_searchable/segment-1713228049659570000.wal\",\"shard\":\"ysA4qoc4ouef\",\"time\":\"2024-04-16T12:16:49+10:00\"}\n",
      "{\"action\":\"lsm_recover_from_active_wal_success\",\"class\":\"PaulGraham2\",\"index\":\"paulgraham2\",\"level\":\"info\",\"msg\":\"successfully recovered from write-ahead-log\",\"path\":\"/Users/mzhao/.local/share/weaviate/paulgraham2/ysA4qoc4ouef/lsm/property_ref_doc_id_searchable/segment-1713228049659570000.wal\",\"shard\":\"ysA4qoc4ouef\",\"time\":\"2024-04-16T12:16:49+10:00\"}\n",
      "{\"action\":\"lsm_recover_from_active_wal\",\"class\":\"PaulGraham2\",\"index\":\"paulgraham2\",\"level\":\"warning\",\"msg\":\"active write-ahead-log found. Did weaviate crash prior to this? Trying to recover...\",\"path\":\"/Users/mzhao/.local/share/weaviate/paulgraham2/ysA4qoc4ouef/lsm/property__node_type_searchable/segment-1713228049661064000.wal\",\"shard\":\"ysA4qoc4ouef\",\"time\":\"2024-04-16T12:16:49+10:00\"}\n",
      "{\"action\":\"lsm_recover_from_active_wal_success\",\"class\":\"PaulGraham2\",\"index\":\"paulgraham2\",\"level\":\"info\",\"msg\":\"successfully recovered from write-ahead-log\",\"path\":\"/Users/mzhao/.local/share/weaviate/paulgraham2/ysA4qoc4ouef/lsm/property__node_type_searchable/segment-1713228049661064000.wal\",\"shard\":\"ysA4qoc4ouef\",\"time\":\"2024-04-16T12:16:49+10:00\"}\n",
      "{\"level\":\"info\",\"msg\":\"Completed loading shard paulgraham2_ysA4qoc4ouef in 18.436125ms\",\"time\":\"2024-04-16T12:16:49+10:00\"}\n",
      "{\"action\":\"hnsw_vector_cache_prefill\",\"count\":3000,\"index_id\":\"main\",\"level\":\"info\",\"limit\":1000000000000,\"msg\":\"prefilled vector cache\",\"time\":\"2024-04-16T12:16:49+10:00\",\"took\":184125}\n",
      "{\"level\":\"info\",\"msg\":\"Created shard insurancepolicyindex_6gMPa5fKIt0n in 3.755833ms\",\"time\":\"2024-04-16T12:16:55+10:00\"}\n",
      "{\"action\":\"hnsw_vector_cache_prefill\",\"count\":1000,\"index_id\":\"main\",\"level\":\"info\",\"limit\":1000000000000,\"msg\":\"prefilled vector cache\",\"time\":\"2024-04-16T12:16:55+10:00\",\"took\":46792}\n"
     ]
    }
   ],
   "source": [
    "from llama_index.core import Settings\n",
    "from llama_index.core.embeddings import resolve_embed_model\n",
    "from llama_index.vector_stores.weaviate import WeaviateVectorStore\n",
    "from llama_index.llms.ollama import Ollama\n",
    "import weaviate\n",
    "from utils import load_documents, get_nodes, create_index\n",
    "\n",
    "DOCUMENTS_PATH = \"./source_documents/\"\n",
    "INDEX_NAME = \"InsurancePolicyIndex\" \n",
    "COUNT_NODES_RETRIEVED = 2\n",
    "DENSE_VECTOR_HYBRID_WEIGHTING = 0.5 \n",
    "\n",
    "# Define Weaviate client \n",
    "client = weaviate.Client(embedded_options=weaviate.EmbeddedOptions())\n",
    "\n",
    "# Delete existing index if exists\n",
    "client.schema.delete_class(INDEX_NAME)\n",
    "\n",
    "# Define and configure embedding and generation LLMs\n",
    "Settings.embed_model = resolve_embed_model(\"local:BAAI/bge-small-en-v1.5\") # Set embedding model globally to index and retrieve using the same model \n",
    "generation_llm  = Ollama(model=\"gemma:2b\", request_timeout=30.0)\n",
    "\n",
    "# Create Retriever\n",
    "documents = load_documents(DOCUMENTS_PATH)\n",
    "nodes = get_nodes(documents)\n",
    "vector_store = WeaviateVectorStore(weaviate_client=client, index_name=INDEX_NAME)\n",
    "index = create_index(nodes, vector_store)\n",
    "retriever = index.as_retriever()\n",
    "\n",
    "# Configure Query Engine\n",
    "query_engine = index.as_query_engine(\n",
    "    vector_store_query_mode = \"hybrid\", \n",
    "    alpha = DENSE_VECTOR_HYBRID_WEIGHTING,\n",
    "    llm = generation_llm,\n",
    "    similarity_top_k = COUNT_NODES_RETRIEVED, \n",
    ")"
   ]
  },
  {
   "cell_type": "code",
   "execution_count": 2,
   "metadata": {},
   "outputs": [
    {
     "name": "stdout",
     "output_type": "stream",
     "text": [
      "The types of insurance available are:\n",
      "\n",
      "• Comprehensive Plus Insurance – our top cover\n",
      "• Comprehensive Insurance – our standard cover\n",
      "• Third Party Fire & Theft Insurance – our basic cover with some extras\n",
      "• Third Party Property Damage Insurance – our basic cover\n"
     ]
    }
   ],
   "source": [
    "response = query_engine.query(\"What types of insurance are available?\")\n",
    "print(response)"
   ]
  },
  {
   "cell_type": "markdown",
   "metadata": {},
   "source": [
    "# Pipeline Evaluation"
   ]
  },
  {
   "cell_type": "code",
   "execution_count": 3,
   "metadata": {},
   "outputs": [
    {
     "data": {
      "text/plain": [
       "True"
      ]
     },
     "execution_count": 3,
     "metadata": {},
     "output_type": "execute_result"
    }
   ],
   "source": [
    "# Load OPENAI_API_KEY from .env file for evaluation\n",
    "from dotenv import load_dotenv\n",
    "load_dotenv()"
   ]
  },
  {
   "cell_type": "markdown",
   "metadata": {},
   "source": [
    "### Retreival Evaluation"
   ]
  },
  {
   "cell_type": "code",
   "execution_count": 4,
   "metadata": {},
   "outputs": [
    {
     "name": "stdout",
     "output_type": "stream",
     "text": [
      "Retrieval evaluation dataset does not exist. Creating one now...\n"
     ]
    },
    {
     "name": "stderr",
     "output_type": "stream",
     "text": [
      "  0%|          | 0/189 [00:00<?, ?it/s]huggingface/tokenizers: The current process just got forked, after parallelism has already been used. Disabling parallelism to avoid deadlocks...\n",
      "To disable this warning, you can either:\n",
      "\t- Avoid using `tokenizers` before the fork if possible\n",
      "\t- Explicitly set the environment variable TOKENIZERS_PARALLELISM=(true | false)\n",
      "100%|██████████| 189/189 [03:57<00:00,  1.26s/it]\n"
     ]
    },
    {
     "data": {
      "text/html": [
       "<div>\n",
       "<style scoped>\n",
       "    .dataframe tbody tr th:only-of-type {\n",
       "        vertical-align: middle;\n",
       "    }\n",
       "\n",
       "    .dataframe tbody tr th {\n",
       "        vertical-align: top;\n",
       "    }\n",
       "\n",
       "    .dataframe thead th {\n",
       "        text-align: right;\n",
       "    }\n",
       "</style>\n",
       "<table border=\"1\" class=\"dataframe\">\n",
       "  <thead>\n",
       "    <tr style=\"text-align: right;\">\n",
       "      <th></th>\n",
       "      <th>retrievers</th>\n",
       "      <th>hit_rate</th>\n",
       "      <th>mrr</th>\n",
       "    </tr>\n",
       "  </thead>\n",
       "  <tbody>\n",
       "    <tr>\n",
       "      <th>0</th>\n",
       "      <td>top-2 eval</td>\n",
       "      <td>0.642857</td>\n",
       "      <td>0.570106</td>\n",
       "    </tr>\n",
       "  </tbody>\n",
       "</table>\n",
       "</div>"
      ],
      "text/plain": [
       "   retrievers  hit_rate       mrr\n",
       "0  top-2 eval  0.642857  0.570106"
      ]
     },
     "execution_count": 4,
     "metadata": {},
     "output_type": "execute_result"
    }
   ],
   "source": [
    "import nest_asyncio\n",
    "from llama_index.core.evaluation import RetrieverEvaluator\n",
    "from llama_index.llms.openai import OpenAI\n",
    "from utils import display_retrieval_evaluation_results, create_retrieval_qa_dataset\n",
    "\n",
    "# Allows for nested async calls in Jupyter notebooks\n",
    "nest_asyncio.apply()\n",
    "\n",
    "# Define evaluation LLM\n",
    "evaluation_llm = OpenAI(temperature=0) # Ideally this should be a superior model to generation_llm (e.g. GPT-4), however due costs and rate limits, GPT-3.5 is used\n",
    "\n",
    "# Create QA dataset\n",
    "QA_DATASET_PATH = \"./qa_datasets/qa_dataset_2.json\"\n",
    "qa_dataset = create_retrieval_qa_dataset(nodes, evaluation_llm, QA_DATASET_PATH)\n",
    "\n",
    "# Evaluate QA dataset\n",
    "retriever_evaluator = RetrieverEvaluator.from_metric_names(\n",
    "    [\"mrr\", \"hit_rate\"], retriever=retriever\n",
    ")\n",
    "eval_results = await retriever_evaluator.aevaluate_dataset(qa_dataset)\n",
    "display_retrieval_evaluation_results(f\"top-{COUNT_NODES_RETRIEVED} eval\", eval_results)"
   ]
  },
  {
   "cell_type": "markdown",
   "metadata": {},
   "source": [
    "### Generation Evaluation"
   ]
  },
  {
   "cell_type": "markdown",
   "metadata": {},
   "source": [
    "#### Example evaluation"
   ]
  },
  {
   "cell_type": "code",
   "execution_count": 5,
   "metadata": {},
   "outputs": [
    {
     "name": "stdout",
     "output_type": "stream",
     "text": [
      "The available types of insurance are:\n",
      "\n",
      "• Comprehensive Plus Insurance\n",
      "• Comprehensive Insurance\n",
      "• Third Party Fire & Theft Insurance\n",
      "• Third Party Property Damage Insurance\n",
      "Faithfulness: True\n",
      "Relevance: 1.0\n",
      "Context: 1.0\n"
     ]
    }
   ],
   "source": [
    "from llama_index.core.evaluation import FaithfulnessEvaluator, AnswerRelevancyEvaluator, ContextRelevancyEvaluator\n",
    "\n",
    "# Example query and response \n",
    "query = \"What types of insurance are available?\"\n",
    "response = query_engine.query(query)\n",
    "print(response)\n",
    "\n",
    "# Example Faithfulness evaluation\n",
    "faithfulness_evaluator = FaithfulnessEvaluator(llm=evaluation_llm)\n",
    "eval_result = faithfulness_evaluator.evaluate_response(query=query, response=response)\n",
    "print(\"Faithfulness: \" + str(eval_result.passing))\n",
    "\n",
    "# Example Relevancy evaluation\n",
    "relevancy_evaluator = AnswerRelevancyEvaluator(llm=evaluation_llm)\n",
    "eval_result = relevancy_evaluator.evaluate_response(query=query, response=response)\n",
    "print(\"Relevance: \" + str(eval_result.score))\n",
    "\n",
    "# Example Context evaluation\n",
    "context_evaluator = ContextRelevancyEvaluator(llm=evaluation_llm)\n",
    "eval_result = context_evaluator.evaluate_response(query=query, response=response)\n",
    "print(\"Context: \" + str(eval_result.score))"
   ]
  },
  {
   "cell_type": "markdown",
   "metadata": {},
   "source": [
    "#### Batch evaluation"
   ]
  },
  {
   "cell_type": "code",
   "execution_count": 17,
   "metadata": {},
   "outputs": [
    {
     "name": "stderr",
     "output_type": "stream",
     "text": [
      "huggingface/tokenizers: The current process just got forked, after parallelism has already been used. Disabling parallelism to avoid deadlocks...\n",
      "To disable this warning, you can either:\n",
      "\t- Avoid using `tokenizers` before the fork if possible\n",
      "\t- Explicitly set the environment variable TOKENIZERS_PARALLELISM=(true | false)\n",
      "/Users/mzhao/sei/rai-assignment/.venv/lib/python3.11/site-packages/llama_index/core/callbacks/base.py:107: RuntimeWarning: coroutine 'RagDatasetGenerator.agenerate_questions_from_nodes' was never awaited\n",
      "  global_stack_trace.set(current_trace_stack)\n",
      "RuntimeWarning: Enable tracemalloc to get the object allocation traceback\n"
     ]
    }
   ],
   "source": [
    "from utils import (\n",
    "    create_question_dataset, \n",
    "    create_prediction_dataset, \n",
    "    create_judges, \n",
    "    create_evaluation_tasks, \n",
    "    evaluate_tasks, \n",
    "    display_generation_evaluation_results\n",
    ")\n",
    "from llama_index.llms.openai import OpenAI\n",
    "import nest_asyncio\n",
    "\n",
    "nest_asyncio.apply()\n",
    "\n",
    "evaluation_llm = OpenAI(temperature=0)\n",
    "# Create rag question dataset    \n",
    "rag_dataset = create_question_dataset(nodes, evaluation_llm)\n",
    "rag_dataset.save_json('./qa_datasets/rag_dataset_2.json')"
   ]
  },
  {
   "cell_type": "code",
   "execution_count": 7,
   "metadata": {},
   "outputs": [
    {
     "name": "stderr",
     "output_type": "stream",
     "text": [
      "Batch processing of predictions: 100%|██████████| 5/5 [00:16<00:00,  3.32s/it]\n",
      "Batch processing of predictions: 100%|██████████| 5/5 [00:22<00:00,  4.55s/it]\n",
      "Batch processing of predictions: 100%|██████████| 5/5 [00:18<00:00,  3.61s/it]\n",
      "Batch processing of predictions: 100%|██████████| 5/5 [00:20<00:00,  4.12s/it]\n",
      "Batch processing of predictions: 100%|██████████| 5/5 [00:20<00:00,  4.11s/it]\n",
      "Batch processing of predictions: 100%|██████████| 5/5 [00:24<00:00,  4.94s/it]\n",
      "Batch processing of predictions: 100%|██████████| 5/5 [00:21<00:00,  4.36s/it]\n",
      "Batch processing of predictions: 100%|██████████| 5/5 [00:22<00:00,  4.41s/it]\n",
      "Batch processing of predictions: 100%|██████████| 5/5 [00:22<00:00,  4.40s/it]\n",
      "Batch processing of predictions: 100%|██████████| 5/5 [00:25<00:00,  5.09s/it]\n",
      "Batch processing of predictions: 100%|██████████| 5/5 [00:20<00:00,  4.17s/it]\n",
      "Batch processing of predictions: 100%|██████████| 5/5 [00:21<00:00,  4.37s/it]\n",
      "Batch processing of predictions: 100%|██████████| 5/5 [00:20<00:00,  4.19s/it]\n",
      "Batch processing of predictions: 100%|██████████| 5/5 [00:24<00:00,  4.84s/it]\n",
      "Batch processing of predictions: 100%|██████████| 5/5 [00:18<00:00,  3.79s/it]\n",
      "Batch processing of predictions: 100%|██████████| 5/5 [00:18<00:00,  3.67s/it]\n",
      "Batch processing of predictions: 100%|██████████| 5/5 [00:17<00:00,  3.41s/it]\n",
      "Batch processing of predictions: 100%|██████████| 5/5 [00:19<00:00,  3.81s/it]\n",
      "Batch processing of predictions: 100%|██████████| 5/5 [00:19<00:00,  3.95s/it]\n",
      "Batch processing of predictions: 100%|██████████| 5/5 [00:21<00:00,  4.30s/it]\n",
      "Batch processing of predictions: 100%|██████████| 5/5 [00:22<00:00,  4.51s/it]\n",
      "Batch processing of predictions: 100%|██████████| 5/5 [00:23<00:00,  4.60s/it]\n",
      "Batch processing of predictions: 100%|██████████| 5/5 [00:20<00:00,  4.10s/it]\n",
      "Batch processing of predictions: 100%|██████████| 5/5 [00:23<00:00,  4.77s/it]\n",
      "Batch processing of predictions: 100%|██████████| 5/5 [00:21<00:00,  4.30s/it]\n",
      "Batch processing of predictions: 100%|██████████| 5/5 [00:20<00:00,  4.14s/it]\n",
      "Batch processing of predictions: 100%|██████████| 5/5 [00:22<00:00,  4.48s/it]\n",
      "Batch processing of predictions: 100%|██████████| 5/5 [00:20<00:00,  4.12s/it]\n",
      "Batch processing of predictions: 100%|██████████| 5/5 [00:18<00:00,  3.76s/it]\n",
      "Batch processing of predictions: 100%|██████████| 5/5 [00:22<00:00,  4.46s/it]\n",
      "Batch processing of predictions: 100%|██████████| 5/5 [00:21<00:00,  4.22s/it]\n",
      "Batch processing of predictions: 100%|██████████| 5/5 [00:21<00:00,  4.26s/it]\n",
      "Batch processing of predictions: 100%|██████████| 5/5 [00:23<00:00,  4.67s/it]\n",
      "Batch processing of predictions: 100%|██████████| 5/5 [00:19<00:00,  3.84s/it]\n",
      "Batch processing of predictions: 100%|██████████| 5/5 [00:21<00:00,  4.24s/it]\n",
      "Batch processing of predictions: 100%|██████████| 5/5 [00:21<00:00,  4.29s/it]\n",
      "Batch processing of predictions: 100%|██████████| 5/5 [00:23<00:00,  4.61s/it]\n",
      "Batch processing of predictions: 100%|██████████| 5/5 [00:18<00:00,  3.67s/it]\n",
      "Batch processing of predictions: 100%|██████████| 3/3 [00:15<00:00,  5.08s/it]\n"
     ]
    }
   ],
   "source": [
    "# Create prediction dataset\n",
    "prediction_data = await create_prediction_dataset(rag_dataset, query_engine)"
   ]
  },
  {
   "cell_type": "code",
   "execution_count": 8,
   "metadata": {},
   "outputs": [],
   "source": [
    "# Create Evaluation tasks using evaluation LLM judge\n",
    "judges = create_judges(evaluation_llm)\n",
    "eval_tasks = create_evaluation_tasks(rag_dataset, prediction_data, judges)"
   ]
  },
  {
   "cell_type": "code",
   "execution_count": 1,
   "metadata": {},
   "outputs": [
    {
     "ename": "NameError",
     "evalue": "name 'eval_tasks' is not defined",
     "output_type": "error",
     "traceback": [
      "\u001b[0;31m---------------------------------------------------------------------------\u001b[0m",
      "\u001b[0;31mNameError\u001b[0m                                 Traceback (most recent call last)",
      "Cell \u001b[0;32mIn[1], line 1\u001b[0m\n\u001b[0;32m----> 1\u001b[0m \u001b[38;5;28mlen\u001b[39m(\u001b[43meval_tasks\u001b[49m)\n",
      "\u001b[0;31mNameError\u001b[0m: name 'eval_tasks' is not defined"
     ]
    }
   ],
   "source": [
    "len(eval_tasks)"
   ]
  },
  {
   "cell_type": "code",
   "execution_count": 9,
   "metadata": {},
   "outputs": [],
   "source": [
    "# Evaluate tasks to get evaluation results\n",
    "eval_results = await evaluate_tasks(eval_tasks)"
   ]
  },
  {
   "cell_type": "code",
   "execution_count": 11,
   "metadata": {},
   "outputs": [
    {
     "data": {
      "text/html": [
       "<div>\n",
       "<style scoped>\n",
       "    .dataframe tbody tr th:only-of-type {\n",
       "        vertical-align: middle;\n",
       "    }\n",
       "\n",
       "    .dataframe tbody tr th {\n",
       "        vertical-align: top;\n",
       "    }\n",
       "\n",
       "    .dataframe thead th {\n",
       "        text-align: right;\n",
       "    }\n",
       "</style>\n",
       "<table border=\"1\" class=\"dataframe\">\n",
       "  <thead>\n",
       "    <tr style=\"text-align: right;\">\n",
       "      <th>rag</th>\n",
       "      <th>mean value</th>\n",
       "    </tr>\n",
       "    <tr>\n",
       "      <th>metrics</th>\n",
       "      <th></th>\n",
       "    </tr>\n",
       "  </thead>\n",
       "  <tbody>\n",
       "    <tr>\n",
       "      <th>mean_answer_relevancy_score</th>\n",
       "      <td>0.909326</td>\n",
       "    </tr>\n",
       "    <tr>\n",
       "      <th>mean_context_relevancy_score</th>\n",
       "      <td>0.842448</td>\n",
       "    </tr>\n",
       "    <tr>\n",
       "      <th>mean_faithfulness_score</th>\n",
       "      <td>0.813472</td>\n",
       "    </tr>\n",
       "    <tr>\n",
       "      <th>mean_semantic_similarity_score</th>\n",
       "      <td>0.899058</td>\n",
       "    </tr>\n",
       "  </tbody>\n",
       "</table>\n",
       "</div>"
      ],
      "text/plain": [
       "rag                             mean value\n",
       "metrics                                   \n",
       "mean_answer_relevancy_score       0.909326\n",
       "mean_context_relevancy_score      0.842448\n",
       "mean_faithfulness_score           0.813472\n",
       "mean_semantic_similarity_score    0.899058"
      ]
     },
     "execution_count": 11,
     "metadata": {},
     "output_type": "execute_result"
    }
   ],
   "source": [
    "# Display evaluation results\n",
    "display_generation_evaluation_results(eval_results)"
   ]
  }
 ],
 "metadata": {
  "kernelspec": {
   "display_name": ".venv",
   "language": "python",
   "name": "python3"
  },
  "language_info": {
   "codemirror_mode": {
    "name": "ipython",
    "version": 3
   },
   "file_extension": ".py",
   "mimetype": "text/x-python",
   "name": "python",
   "nbconvert_exporter": "python",
   "pygments_lexer": "ipython3",
   "version": "3.11.6"
  }
 },
 "nbformat": 4,
 "nbformat_minor": 2
}
