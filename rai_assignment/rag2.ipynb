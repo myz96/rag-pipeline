{
 "cells": [
  {
   "cell_type": "markdown",
   "metadata": {},
   "source": [
    "# RAG 2: Fast and Free \n",
    "The second RAG pipeline leverages open source and local technologies, optimising for fast performance and free implementation."
   ]
  },
  {
   "cell_type": "code",
   "execution_count": 1,
   "metadata": {},
   "outputs": [
    {
     "name": "stdout",
     "output_type": "stream",
     "text": [
      "Started /Users/mzhao/.cache/weaviate-embedded: process ID 22069\n"
     ]
    },
    {
     "name": "stderr",
     "output_type": "stream",
     "text": [
      "{\"action\":\"startup\",\"default_vectorizer_module\":\"none\",\"level\":\"info\",\"msg\":\"the default vectorizer modules is set to \\\"none\\\", as a result all new schema classes without an explicit vectorizer setting, will use this vectorizer\",\"time\":\"2024-04-15T21:58:01+10:00\"}\n",
      "{\"action\":\"startup\",\"auto_schema_enabled\":true,\"level\":\"info\",\"msg\":\"auto schema enabled setting is set to \\\"true\\\"\",\"time\":\"2024-04-15T21:58:01+10:00\"}\n",
      "{\"level\":\"info\",\"msg\":\"No resource limits set, weaviate will use all available memory and CPU. To limit resources, set LIMIT_RESOURCES=true\",\"time\":\"2024-04-15T21:58:01+10:00\"}\n",
      "{\"level\":\"warning\",\"msg\":\"Multiple vector spaces are present, GraphQL Explore and REST API list objects endpoint module include params has been disabled as a result.\",\"time\":\"2024-04-15T21:58:01+10:00\"}\n",
      "{\"action\":\"grpc_startup\",\"level\":\"info\",\"msg\":\"grpc server listening at [::]:50060\",\"time\":\"2024-04-15T21:58:01+10:00\"}\n",
      "{\"action\":\"restapi_management\",\"level\":\"info\",\"msg\":\"Serving weaviate at http://127.0.0.1:8079\",\"time\":\"2024-04-15T21:58:01+10:00\"}\n",
      "/Users/mzhao/sei/rai-assignment/.venv/lib/python3.11/site-packages/weaviate/warnings.py:121: DeprecationWarning: Dep005: You are using weaviate-client version 3.26.2. The latest version is 4.5.5.\n",
      "            Please consider upgrading to the latest version. See https://weaviate.io/developers/weaviate/client-libraries/python for details.\n",
      "  warnings.warn(\n",
      "{\"action\":\"lsm_recover_from_active_wal\",\"class\":\"PaulGraham2\",\"index\":\"paulgraham2\",\"level\":\"warning\",\"msg\":\"active write-ahead-log found. Did weaviate crash prior to this? Trying to recover...\",\"path\":\"/Users/mzhao/.local/share/weaviate/paulgraham2/ysA4qoc4ouef/lsm/objects/segment-1713181684316382000.wal\",\"shard\":\"ysA4qoc4ouef\",\"time\":\"2024-04-15T21:58:02+10:00\"}\n",
      "{\"action\":\"lsm_recover_from_active_wal_success\",\"class\":\"PaulGraham2\",\"index\":\"paulgraham2\",\"level\":\"info\",\"msg\":\"successfully recovered from write-ahead-log\",\"path\":\"/Users/mzhao/.local/share/weaviate/paulgraham2/ysA4qoc4ouef/lsm/objects/segment-1713181684316382000.wal\",\"shard\":\"ysA4qoc4ouef\",\"time\":\"2024-04-15T21:58:02+10:00\"}\n",
      "{\"action\":\"lsm_recover_from_active_wal\",\"class\":\"PaulGraham2\",\"index\":\"paulgraham2\",\"level\":\"warning\",\"msg\":\"active write-ahead-log found. Did weaviate crash prior to this? Trying to recover...\",\"path\":\"/Users/mzhao/.local/share/weaviate/paulgraham2/ysA4qoc4ouef/lsm/property_node_info/segment-1713181684318895000.wal\",\"shard\":\"ysA4qoc4ouef\",\"time\":\"2024-04-15T21:58:02+10:00\"}\n",
      "{\"action\":\"lsm_recover_from_active_wal_success\",\"class\":\"PaulGraham2\",\"index\":\"paulgraham2\",\"level\":\"info\",\"msg\":\"successfully recovered from write-ahead-log\",\"path\":\"/Users/mzhao/.local/share/weaviate/paulgraham2/ysA4qoc4ouef/lsm/property_node_info/segment-1713181684318895000.wal\",\"shard\":\"ysA4qoc4ouef\",\"time\":\"2024-04-15T21:58:02+10:00\"}\n",
      "{\"action\":\"lsm_recover_from_active_wal\",\"class\":\"PaulGraham2\",\"index\":\"paulgraham2\",\"level\":\"warning\",\"msg\":\"active write-ahead-log found. Did weaviate crash prior to this? Trying to recover...\",\"path\":\"/Users/mzhao/.local/share/weaviate/paulgraham2/ysA4qoc4ouef/lsm/property_doc_id/segment-1713181684329622000.wal\",\"shard\":\"ysA4qoc4ouef\",\"time\":\"2024-04-15T21:58:02+10:00\"}\n",
      "{\"action\":\"lsm_recover_from_active_wal_success\",\"class\":\"PaulGraham2\",\"index\":\"paulgraham2\",\"level\":\"info\",\"msg\":\"successfully recovered from write-ahead-log\",\"path\":\"/Users/mzhao/.local/share/weaviate/paulgraham2/ysA4qoc4ouef/lsm/property_doc_id/segment-1713181684329622000.wal\",\"shard\":\"ysA4qoc4ouef\",\"time\":\"2024-04-15T21:58:02+10:00\"}\n",
      "{\"action\":\"lsm_recover_from_active_wal\",\"class\":\"PaulGraham2\",\"index\":\"paulgraham2\",\"level\":\"warning\",\"msg\":\"active write-ahead-log found. Did weaviate crash prior to this? Trying to recover...\",\"path\":\"/Users/mzhao/.local/share/weaviate/paulgraham2/ysA4qoc4ouef/lsm/property_last_modified_date/segment-1713181684320832000.wal\",\"shard\":\"ysA4qoc4ouef\",\"time\":\"2024-04-15T21:58:02+10:00\"}\n",
      "{\"action\":\"lsm_recover_from_active_wal_success\",\"class\":\"PaulGraham2\",\"index\":\"paulgraham2\",\"level\":\"info\",\"msg\":\"successfully recovered from write-ahead-log\",\"path\":\"/Users/mzhao/.local/share/weaviate/paulgraham2/ysA4qoc4ouef/lsm/property_last_modified_date/segment-1713181684320832000.wal\",\"shard\":\"ysA4qoc4ouef\",\"time\":\"2024-04-15T21:58:02+10:00\"}\n",
      "{\"action\":\"lsm_recover_from_active_wal\",\"class\":\"PaulGraham2\",\"index\":\"paulgraham2\",\"level\":\"warning\",\"msg\":\"active write-ahead-log found. Did weaviate crash prior to this? Trying to recover...\",\"path\":\"/Users/mzhao/.local/share/weaviate/paulgraham2/ysA4qoc4ouef/lsm/property_document_id/segment-1713181684327206000.wal\",\"shard\":\"ysA4qoc4ouef\",\"time\":\"2024-04-15T21:58:02+10:00\"}\n",
      "{\"action\":\"lsm_recover_from_active_wal\",\"class\":\"PaulGraham2\",\"index\":\"paulgraham2\",\"level\":\"warning\",\"msg\":\"active write-ahead-log found. Did weaviate crash prior to this? Trying to recover...\",\"path\":\"/Users/mzhao/.local/share/weaviate/paulgraham2/ysA4qoc4ouef/lsm/property_file_path/segment-1713181684320339000.wal\",\"shard\":\"ysA4qoc4ouef\",\"time\":\"2024-04-15T21:58:02+10:00\"}\n",
      "{\"action\":\"lsm_recover_from_active_wal_success\",\"class\":\"PaulGraham2\",\"index\":\"paulgraham2\",\"level\":\"info\",\"msg\":\"successfully recovered from write-ahead-log\",\"path\":\"/Users/mzhao/.local/share/weaviate/paulgraham2/ysA4qoc4ouef/lsm/property_document_id/segment-1713181684327206000.wal\",\"shard\":\"ysA4qoc4ouef\",\"time\":\"2024-04-15T21:58:02+10:00\"}\n",
      "{\"action\":\"lsm_recover_from_active_wal_success\",\"class\":\"PaulGraham2\",\"index\":\"paulgraham2\",\"level\":\"info\",\"msg\":\"successfully recovered from write-ahead-log\",\"path\":\"/Users/mzhao/.local/share/weaviate/paulgraham2/ysA4qoc4ouef/lsm/property_file_path/segment-1713181684320339000.wal\",\"shard\":\"ysA4qoc4ouef\",\"time\":\"2024-04-15T21:58:02+10:00\"}\n",
      "{\"action\":\"lsm_recover_from_active_wal\",\"class\":\"PaulGraham2\",\"index\":\"paulgraham2\",\"level\":\"warning\",\"msg\":\"active write-ahead-log found. Did weaviate crash prior to this? Trying to recover...\",\"path\":\"/Users/mzhao/.local/share/weaviate/paulgraham2/ysA4qoc4ouef/lsm/property__id/segment-1713181684319967000.wal\",\"shard\":\"ysA4qoc4ouef\",\"time\":\"2024-04-15T21:58:02+10:00\"}\n",
      "{\"action\":\"lsm_recover_from_active_wal\",\"class\":\"PaulGraham2\",\"index\":\"paulgraham2\",\"level\":\"warning\",\"msg\":\"active write-ahead-log found. Did weaviate crash prior to this? Trying to recover...\",\"path\":\"/Users/mzhao/.local/share/weaviate/paulgraham2/ysA4qoc4ouef/lsm/property_last_modified_date_searchable/segment-1713181684326602000.wal\",\"shard\":\"ysA4qoc4ouef\",\"time\":\"2024-04-15T21:58:02+10:00\"}\n",
      "{\"action\":\"lsm_recover_from_active_wal\",\"class\":\"PaulGraham2\",\"index\":\"paulgraham2\",\"level\":\"warning\",\"msg\":\"active write-ahead-log found. Did weaviate crash prior to this? Trying to recover...\",\"path\":\"/Users/mzhao/.local/share/weaviate/paulgraham2/ysA4qoc4ouef/lsm/property_creation_date/segment-1713181684323538000.wal\",\"shard\":\"ysA4qoc4ouef\",\"time\":\"2024-04-15T21:58:02+10:00\"}\n",
      "{\"action\":\"lsm_recover_from_active_wal_success\",\"class\":\"PaulGraham2\",\"index\":\"paulgraham2\",\"level\":\"info\",\"msg\":\"successfully recovered from write-ahead-log\",\"path\":\"/Users/mzhao/.local/share/weaviate/paulgraham2/ysA4qoc4ouef/lsm/property_last_modified_date_searchable/segment-1713181684326602000.wal\",\"shard\":\"ysA4qoc4ouef\",\"time\":\"2024-04-15T21:58:02+10:00\"}\n",
      "{\"action\":\"lsm_recover_from_active_wal\",\"class\":\"PaulGraham2\",\"index\":\"paulgraham2\",\"level\":\"warning\",\"msg\":\"active write-ahead-log found. Did weaviate crash prior to this? Trying to recover...\",\"path\":\"/Users/mzhao/.local/share/weaviate/paulgraham2/ysA4qoc4ouef/lsm/property_text/segment-1713181684327804000.wal\",\"shard\":\"ysA4qoc4ouef\",\"time\":\"2024-04-15T21:58:02+10:00\"}\n",
      "{\"action\":\"lsm_recover_from_active_wal_success\",\"class\":\"PaulGraham2\",\"index\":\"paulgraham2\",\"level\":\"info\",\"msg\":\"successfully recovered from write-ahead-log\",\"path\":\"/Users/mzhao/.local/share/weaviate/paulgraham2/ysA4qoc4ouef/lsm/property__id/segment-1713181684319967000.wal\",\"shard\":\"ysA4qoc4ouef\",\"time\":\"2024-04-15T21:58:02+10:00\"}\n",
      "{\"action\":\"lsm_recover_from_active_wal_success\",\"class\":\"PaulGraham2\",\"index\":\"paulgraham2\",\"level\":\"info\",\"msg\":\"successfully recovered from write-ahead-log\",\"path\":\"/Users/mzhao/.local/share/weaviate/paulgraham2/ysA4qoc4ouef/lsm/property_creation_date/segment-1713181684323538000.wal\",\"shard\":\"ysA4qoc4ouef\",\"time\":\"2024-04-15T21:58:02+10:00\"}\n",
      "{\"action\":\"lsm_recover_from_active_wal\",\"class\":\"PaulGraham2\",\"index\":\"paulgraham2\",\"level\":\"warning\",\"msg\":\"active write-ahead-log found. Did weaviate crash prior to this? Trying to recover...\",\"path\":\"/Users/mzhao/.local/share/weaviate/paulgraham2/ysA4qoc4ouef/lsm/property_node_info_searchable/segment-1713181684320413000.wal\",\"shard\":\"ysA4qoc4ouef\",\"time\":\"2024-04-15T21:58:02+10:00\"}\n",
      "{\"action\":\"lsm_recover_from_active_wal\",\"class\":\"PaulGraham2\",\"index\":\"paulgraham2\",\"level\":\"warning\",\"msg\":\"active write-ahead-log found. Did weaviate crash prior to this? Trying to recover...\",\"path\":\"/Users/mzhao/.local/share/weaviate/paulgraham2/ysA4qoc4ouef/lsm/property__node_type/segment-1713181684329676000.wal\",\"shard\":\"ysA4qoc4ouef\",\"time\":\"2024-04-15T21:58:02+10:00\"}\n",
      "{\"action\":\"lsm_recover_from_active_wal\",\"class\":\"PaulGraham2\",\"index\":\"paulgraham2\",\"level\":\"warning\",\"msg\":\"active write-ahead-log found. Did weaviate crash prior to this? Trying to recover...\",\"path\":\"/Users/mzhao/.local/share/weaviate/paulgraham2/ysA4qoc4ouef/lsm/property_file_size/segment-1713181684321475000.wal\",\"shard\":\"ysA4qoc4ouef\",\"time\":\"2024-04-15T21:58:02+10:00\"}\n",
      "{\"action\":\"lsm_recover_from_active_wal_success\",\"class\":\"PaulGraham2\",\"index\":\"paulgraham2\",\"level\":\"info\",\"msg\":\"successfully recovered from write-ahead-log\",\"path\":\"/Users/mzhao/.local/share/weaviate/paulgraham2/ysA4qoc4ouef/lsm/property_node_info_searchable/segment-1713181684320413000.wal\",\"shard\":\"ysA4qoc4ouef\",\"time\":\"2024-04-15T21:58:02+10:00\"}\n",
      "{\"action\":\"lsm_recover_from_active_wal_success\",\"class\":\"PaulGraham2\",\"index\":\"paulgraham2\",\"level\":\"info\",\"msg\":\"successfully recovered from write-ahead-log\",\"path\":\"/Users/mzhao/.local/share/weaviate/paulgraham2/ysA4qoc4ouef/lsm/property__node_type/segment-1713181684329676000.wal\",\"shard\":\"ysA4qoc4ouef\",\"time\":\"2024-04-15T21:58:02+10:00\"}\n",
      "{\"action\":\"lsm_recover_from_active_wal_success\",\"class\":\"PaulGraham2\",\"index\":\"paulgraham2\",\"level\":\"info\",\"msg\":\"successfully recovered from write-ahead-log\",\"path\":\"/Users/mzhao/.local/share/weaviate/paulgraham2/ysA4qoc4ouef/lsm/property_file_size/segment-1713181684321475000.wal\",\"shard\":\"ysA4qoc4ouef\",\"time\":\"2024-04-15T21:58:02+10:00\"}\n",
      "{\"action\":\"lsm_recover_from_active_wal_success\",\"class\":\"PaulGraham2\",\"index\":\"paulgraham2\",\"level\":\"info\",\"msg\":\"successfully recovered from write-ahead-log\",\"path\":\"/Users/mzhao/.local/share/weaviate/paulgraham2/ysA4qoc4ouef/lsm/property_text/segment-1713181684327804000.wal\",\"shard\":\"ysA4qoc4ouef\",\"time\":\"2024-04-15T21:58:02+10:00\"}\n",
      "{\"action\":\"lsm_recover_from_active_wal\",\"class\":\"PaulGraham2\",\"index\":\"paulgraham2\",\"level\":\"warning\",\"msg\":\"active write-ahead-log found. Did weaviate crash prior to this? Trying to recover...\",\"path\":\"/Users/mzhao/.local/share/weaviate/paulgraham2/ysA4qoc4ouef/lsm/property_relationships/segment-1713181684318968000.wal\",\"shard\":\"ysA4qoc4ouef\",\"time\":\"2024-04-15T21:58:02+10:00\"}\n",
      "{\"action\":\"lsm_recover_from_active_wal\",\"class\":\"PaulGraham2\",\"index\":\"paulgraham2\",\"level\":\"warning\",\"msg\":\"active write-ahead-log found. Did weaviate crash prior to this? Trying to recover...\",\"path\":\"/Users/mzhao/.local/share/weaviate/paulgraham2/ysA4qoc4ouef/lsm/property_file_type/segment-1713181684320369000.wal\",\"shard\":\"ysA4qoc4ouef\",\"time\":\"2024-04-15T21:58:02+10:00\"}\n",
      "{\"action\":\"lsm_recover_from_active_wal_success\",\"class\":\"PaulGraham2\",\"index\":\"paulgraham2\",\"level\":\"info\",\"msg\":\"successfully recovered from write-ahead-log\",\"path\":\"/Users/mzhao/.local/share/weaviate/paulgraham2/ysA4qoc4ouef/lsm/property_file_type/segment-1713181684320369000.wal\",\"shard\":\"ysA4qoc4ouef\",\"time\":\"2024-04-15T21:58:02+10:00\"}\n",
      "{\"action\":\"lsm_recover_from_active_wal_success\",\"class\":\"PaulGraham2\",\"index\":\"paulgraham2\",\"level\":\"info\",\"msg\":\"successfully recovered from write-ahead-log\",\"path\":\"/Users/mzhao/.local/share/weaviate/paulgraham2/ysA4qoc4ouef/lsm/property_relationships/segment-1713181684318968000.wal\",\"shard\":\"ysA4qoc4ouef\",\"time\":\"2024-04-15T21:58:02+10:00\"}\n",
      "{\"action\":\"lsm_recover_from_active_wal\",\"class\":\"PaulGraham2\",\"index\":\"paulgraham2\",\"level\":\"warning\",\"msg\":\"active write-ahead-log found. Did weaviate crash prior to this? Trying to recover...\",\"path\":\"/Users/mzhao/.local/share/weaviate/paulgraham2/ysA4qoc4ouef/lsm/property_creation_date_searchable/segment-1713181684327801000.wal\",\"shard\":\"ysA4qoc4ouef\",\"time\":\"2024-04-15T21:58:02+10:00\"}\n",
      "{\"action\":\"lsm_recover_from_active_wal\",\"class\":\"PaulGraham2\",\"index\":\"paulgraham2\",\"level\":\"warning\",\"msg\":\"active write-ahead-log found. Did weaviate crash prior to this? Trying to recover...\",\"path\":\"/Users/mzhao/.local/share/weaviate/paulgraham2/ysA4qoc4ouef/lsm/property_file_name/segment-1713181684327007000.wal\",\"shard\":\"ysA4qoc4ouef\",\"time\":\"2024-04-15T21:58:02+10:00\"}\n",
      "{\"action\":\"lsm_recover_from_active_wal_success\",\"class\":\"PaulGraham2\",\"index\":\"paulgraham2\",\"level\":\"info\",\"msg\":\"successfully recovered from write-ahead-log\",\"path\":\"/Users/mzhao/.local/share/weaviate/paulgraham2/ysA4qoc4ouef/lsm/property_creation_date_searchable/segment-1713181684327801000.wal\",\"shard\":\"ysA4qoc4ouef\",\"time\":\"2024-04-15T21:58:02+10:00\"}\n",
      "{\"action\":\"lsm_recover_from_active_wal\",\"class\":\"PaulGraham2\",\"index\":\"paulgraham2\",\"level\":\"warning\",\"msg\":\"active write-ahead-log found. Did weaviate crash prior to this? Trying to recover...\",\"path\":\"/Users/mzhao/.local/share/weaviate/paulgraham2/ysA4qoc4ouef/lsm/property__node_type_searchable/segment-1713181684331233000.wal\",\"shard\":\"ysA4qoc4ouef\",\"time\":\"2024-04-15T21:58:02+10:00\"}\n",
      "{\"action\":\"lsm_recover_from_active_wal\",\"class\":\"PaulGraham2\",\"index\":\"paulgraham2\",\"level\":\"warning\",\"msg\":\"active write-ahead-log found. Did weaviate crash prior to this? Trying to recover...\",\"path\":\"/Users/mzhao/.local/share/weaviate/paulgraham2/ysA4qoc4ouef/lsm/property_relationships_searchable/segment-1713181684321034000.wal\",\"shard\":\"ysA4qoc4ouef\",\"time\":\"2024-04-15T21:58:02+10:00\"}\n",
      "{\"action\":\"lsm_recover_from_active_wal\",\"class\":\"PaulGraham2\",\"index\":\"paulgraham2\",\"level\":\"warning\",\"msg\":\"active write-ahead-log found. Did weaviate crash prior to this? Trying to recover...\",\"path\":\"/Users/mzhao/.local/share/weaviate/paulgraham2/ysA4qoc4ouef/lsm/property_file_path_searchable/segment-1713181684325851000.wal\",\"shard\":\"ysA4qoc4ouef\",\"time\":\"2024-04-15T21:58:02+10:00\"}\n",
      "{\"action\":\"lsm_recover_from_active_wal\",\"class\":\"PaulGraham2\",\"index\":\"paulgraham2\",\"level\":\"warning\",\"msg\":\"active write-ahead-log found. Did weaviate crash prior to this? Trying to recover...\",\"path\":\"/Users/mzhao/.local/share/weaviate/paulgraham2/ysA4qoc4ouef/lsm/property__node_content/segment-1713181684320050000.wal\",\"shard\":\"ysA4qoc4ouef\",\"time\":\"2024-04-15T21:58:02+10:00\"}\n",
      "{\"action\":\"lsm_recover_from_active_wal\",\"class\":\"PaulGraham2\",\"index\":\"paulgraham2\",\"level\":\"warning\",\"msg\":\"active write-ahead-log found. Did weaviate crash prior to this? Trying to recover...\",\"path\":\"/Users/mzhao/.local/share/weaviate/paulgraham2/ysA4qoc4ouef/lsm/property_text_searchable/segment-1713181684330684000.wal\",\"shard\":\"ysA4qoc4ouef\",\"time\":\"2024-04-15T21:58:02+10:00\"}\n",
      "{\"action\":\"lsm_recover_from_active_wal_success\",\"class\":\"PaulGraham2\",\"index\":\"paulgraham2\",\"level\":\"info\",\"msg\":\"successfully recovered from write-ahead-log\",\"path\":\"/Users/mzhao/.local/share/weaviate/paulgraham2/ysA4qoc4ouef/lsm/property__node_type_searchable/segment-1713181684331233000.wal\",\"shard\":\"ysA4qoc4ouef\",\"time\":\"2024-04-15T21:58:02+10:00\"}\n",
      "{\"action\":\"lsm_recover_from_active_wal_success\",\"class\":\"PaulGraham2\",\"index\":\"paulgraham2\",\"level\":\"info\",\"msg\":\"successfully recovered from write-ahead-log\",\"path\":\"/Users/mzhao/.local/share/weaviate/paulgraham2/ysA4qoc4ouef/lsm/property_text_searchable/segment-1713181684330684000.wal\",\"shard\":\"ysA4qoc4ouef\",\"time\":\"2024-04-15T21:58:02+10:00\"}\n",
      "{\"action\":\"lsm_recover_from_active_wal_success\",\"class\":\"PaulGraham2\",\"index\":\"paulgraham2\",\"level\":\"info\",\"msg\":\"successfully recovered from write-ahead-log\",\"path\":\"/Users/mzhao/.local/share/weaviate/paulgraham2/ysA4qoc4ouef/lsm/property_file_name/segment-1713181684327007000.wal\",\"shard\":\"ysA4qoc4ouef\",\"time\":\"2024-04-15T21:58:02+10:00\"}\n",
      "{\"action\":\"lsm_recover_from_active_wal_success\",\"class\":\"PaulGraham2\",\"index\":\"paulgraham2\",\"level\":\"info\",\"msg\":\"successfully recovered from write-ahead-log\",\"path\":\"/Users/mzhao/.local/share/weaviate/paulgraham2/ysA4qoc4ouef/lsm/property_relationships_searchable/segment-1713181684321034000.wal\",\"shard\":\"ysA4qoc4ouef\",\"time\":\"2024-04-15T21:58:02+10:00\"}\n",
      "{\"action\":\"lsm_recover_from_active_wal_success\",\"class\":\"PaulGraham2\",\"index\":\"paulgraham2\",\"level\":\"info\",\"msg\":\"successfully recovered from write-ahead-log\",\"path\":\"/Users/mzhao/.local/share/weaviate/paulgraham2/ysA4qoc4ouef/lsm/property_file_path_searchable/segment-1713181684325851000.wal\",\"shard\":\"ysA4qoc4ouef\",\"time\":\"2024-04-15T21:58:02+10:00\"}\n",
      "{\"action\":\"lsm_recover_from_active_wal_success\",\"class\":\"PaulGraham2\",\"index\":\"paulgraham2\",\"level\":\"info\",\"msg\":\"successfully recovered from write-ahead-log\",\"path\":\"/Users/mzhao/.local/share/weaviate/paulgraham2/ysA4qoc4ouef/lsm/property__node_content/segment-1713181684320050000.wal\",\"shard\":\"ysA4qoc4ouef\",\"time\":\"2024-04-15T21:58:02+10:00\"}\n",
      "{\"action\":\"lsm_recover_from_active_wal\",\"class\":\"PaulGraham2\",\"index\":\"paulgraham2\",\"level\":\"warning\",\"msg\":\"active write-ahead-log found. Did weaviate crash prior to this? Trying to recover...\",\"path\":\"/Users/mzhao/.local/share/weaviate/paulgraham2/ysA4qoc4ouef/lsm/property_ref_doc_id/segment-1713181684329672000.wal\",\"shard\":\"ysA4qoc4ouef\",\"time\":\"2024-04-15T21:58:02+10:00\"}\n",
      "{\"action\":\"lsm_recover_from_active_wal\",\"class\":\"PaulGraham2\",\"index\":\"paulgraham2\",\"level\":\"warning\",\"msg\":\"active write-ahead-log found. Did weaviate crash prior to this? Trying to recover...\",\"path\":\"/Users/mzhao/.local/share/weaviate/paulgraham2/ysA4qoc4ouef/lsm/property_file_type_searchable/segment-1713181684325438000.wal\",\"shard\":\"ysA4qoc4ouef\",\"time\":\"2024-04-15T21:58:02+10:00\"}\n",
      "{\"action\":\"lsm_recover_from_active_wal_success\",\"class\":\"PaulGraham2\",\"index\":\"paulgraham2\",\"level\":\"info\",\"msg\":\"successfully recovered from write-ahead-log\",\"path\":\"/Users/mzhao/.local/share/weaviate/paulgraham2/ysA4qoc4ouef/lsm/property_ref_doc_id/segment-1713181684329672000.wal\",\"shard\":\"ysA4qoc4ouef\",\"time\":\"2024-04-15T21:58:02+10:00\"}\n",
      "{\"action\":\"lsm_recover_from_active_wal_success\",\"class\":\"PaulGraham2\",\"index\":\"paulgraham2\",\"level\":\"info\",\"msg\":\"successfully recovered from write-ahead-log\",\"path\":\"/Users/mzhao/.local/share/weaviate/paulgraham2/ysA4qoc4ouef/lsm/property_file_type_searchable/segment-1713181684325438000.wal\",\"shard\":\"ysA4qoc4ouef\",\"time\":\"2024-04-15T21:58:02+10:00\"}\n",
      "{\"action\":\"lsm_recover_from_active_wal\",\"class\":\"PaulGraham2\",\"index\":\"paulgraham2\",\"level\":\"warning\",\"msg\":\"active write-ahead-log found. Did weaviate crash prior to this? Trying to recover...\",\"path\":\"/Users/mzhao/.local/share/weaviate/paulgraham2/ysA4qoc4ouef/lsm/property_file_name_searchable/segment-1713181684329609000.wal\",\"shard\":\"ysA4qoc4ouef\",\"time\":\"2024-04-15T21:58:02+10:00\"}\n",
      "{\"action\":\"lsm_recover_from_active_wal\",\"class\":\"PaulGraham2\",\"index\":\"paulgraham2\",\"level\":\"warning\",\"msg\":\"active write-ahead-log found. Did weaviate crash prior to this? Trying to recover...\",\"path\":\"/Users/mzhao/.local/share/weaviate/paulgraham2/ysA4qoc4ouef/lsm/property__node_content_searchable/segment-1713181684327311000.wal\",\"shard\":\"ysA4qoc4ouef\",\"time\":\"2024-04-15T21:58:02+10:00\"}\n",
      "{\"action\":\"lsm_recover_from_active_wal_success\",\"class\":\"PaulGraham2\",\"index\":\"paulgraham2\",\"level\":\"info\",\"msg\":\"successfully recovered from write-ahead-log\",\"path\":\"/Users/mzhao/.local/share/weaviate/paulgraham2/ysA4qoc4ouef/lsm/property_file_name_searchable/segment-1713181684329609000.wal\",\"shard\":\"ysA4qoc4ouef\",\"time\":\"2024-04-15T21:58:02+10:00\"}\n",
      "{\"action\":\"lsm_recover_from_active_wal\",\"class\":\"PaulGraham2\",\"index\":\"paulgraham2\",\"level\":\"warning\",\"msg\":\"active write-ahead-log found. Did weaviate crash prior to this? Trying to recover...\",\"path\":\"/Users/mzhao/.local/share/weaviate/paulgraham2/ysA4qoc4ouef/lsm/property_ref_doc_id_searchable/segment-1713181684331155000.wal\",\"shard\":\"ysA4qoc4ouef\",\"time\":\"2024-04-15T21:58:02+10:00\"}\n",
      "{\"action\":\"lsm_recover_from_active_wal_success\",\"class\":\"PaulGraham2\",\"index\":\"paulgraham2\",\"level\":\"info\",\"msg\":\"successfully recovered from write-ahead-log\",\"path\":\"/Users/mzhao/.local/share/weaviate/paulgraham2/ysA4qoc4ouef/lsm/property__node_content_searchable/segment-1713181684327311000.wal\",\"shard\":\"ysA4qoc4ouef\",\"time\":\"2024-04-15T21:58:02+10:00\"}\n",
      "{\"action\":\"lsm_recover_from_active_wal_success\",\"class\":\"PaulGraham2\",\"index\":\"paulgraham2\",\"level\":\"info\",\"msg\":\"successfully recovered from write-ahead-log\",\"path\":\"/Users/mzhao/.local/share/weaviate/paulgraham2/ysA4qoc4ouef/lsm/property_ref_doc_id_searchable/segment-1713181684331155000.wal\",\"shard\":\"ysA4qoc4ouef\",\"time\":\"2024-04-15T21:58:02+10:00\"}\n",
      "{\"level\":\"info\",\"msg\":\"Completed loading shard paulgraham2_ysA4qoc4ouef in 18.075917ms\",\"time\":\"2024-04-15T21:58:02+10:00\"}\n",
      "{\"action\":\"hnsw_vector_cache_prefill\",\"count\":3000,\"index_id\":\"main\",\"level\":\"info\",\"limit\":1000000000000,\"msg\":\"prefilled vector cache\",\"time\":\"2024-04-15T21:58:02+10:00\",\"took\":151041}\n",
      "{\"level\":\"info\",\"msg\":\"Created shard insurancepolicyindex_cVb6hXmSfPLg in 4.677ms\",\"time\":\"2024-04-15T21:58:07+10:00\"}\n",
      "{\"action\":\"hnsw_vector_cache_prefill\",\"count\":1000,\"index_id\":\"main\",\"level\":\"info\",\"limit\":1000000000000,\"msg\":\"prefilled vector cache\",\"time\":\"2024-04-15T21:58:07+10:00\",\"took\":46000}\n"
     ]
    }
   ],
   "source": [
    "from llama_index.core import Settings\n",
    "from llama_index.core.embeddings import resolve_embed_model\n",
    "from llama_index.vector_stores.weaviate import WeaviateVectorStore\n",
    "from llama_index.llms.ollama import Ollama\n",
    "import weaviate\n",
    "from utils import load_documents, get_nodes, create_index\n",
    "\n",
    "DOCUMENTS_PATH = \"./source_documents/\"\n",
    "INDEX_NAME = \"InsurancePolicyIndex\" \n",
    "COUNT_NODES_RETRIEVED = 2\n",
    "DENSE_VECTOR_HYBRID_WEIGHTING = 0.5 \n",
    "\n",
    "# Define Weaviate client \n",
    "client = weaviate.Client(embedded_options=weaviate.EmbeddedOptions())\n",
    "\n",
    "# Delete existing index if exists\n",
    "client.schema.delete_class(INDEX_NAME)\n",
    "\n",
    "# Define and configure embedding and generation LLMs\n",
    "Settings.embed_model = resolve_embed_model(\"local:BAAI/bge-small-en-v1.5\") # Set embedding model globally to index and retrieve using the same model \n",
    "generation_llm  = Ollama(model=\"gemma:2b\", request_timeout=30.0)\n",
    "\n",
    "# Create Retriever\n",
    "documents = load_documents(DOCUMENTS_PATH)\n",
    "nodes = get_nodes(documents)\n",
    "vector_store = WeaviateVectorStore(weaviate_client=client, index_name=INDEX_NAME)\n",
    "index = create_index(nodes, vector_store)\n",
    "retriever = index.as_retriever()\n",
    "\n",
    "# Configure Query Engine\n",
    "query_engine = index.as_query_engine(\n",
    "    vector_store_query_mode = \"hybrid\", \n",
    "    alpha = DENSE_VECTOR_HYBRID_WEIGHTING,\n",
    "    llm = generation_llm,\n",
    "    similarity_top_k = COUNT_NODES_RETRIEVED, \n",
    ")"
   ]
  },
  {
   "cell_type": "code",
   "execution_count": 2,
   "metadata": {},
   "outputs": [
    {
     "name": "stdout",
     "output_type": "stream",
     "text": [
      "Sure, the types of insurance available are:\n",
      "\n",
      "- Comprehensive Plus Insurance\n",
      "- Comprehensive Insurance\n",
      "- Third Party Fire & Theft Insurance\n",
      "- Third Party Property Damage Insurance\n"
     ]
    }
   ],
   "source": [
    "query_engine.query(\"What types of insurance are available?\")"
   ]
  },
  {
   "cell_type": "markdown",
   "metadata": {},
   "source": [
    "# Pipeline Evaluation"
   ]
  },
  {
   "cell_type": "code",
   "execution_count": 3,
   "metadata": {},
   "outputs": [
    {
     "data": {
      "text/plain": [
       "True"
      ]
     },
     "execution_count": 3,
     "metadata": {},
     "output_type": "execute_result"
    }
   ],
   "source": [
    "# Load OPENAI_API_KEY from .env file for evaluation\n",
    "from dotenv import load_dotenv\n",
    "load_dotenv()"
   ]
  },
  {
   "cell_type": "markdown",
   "metadata": {},
   "source": [
    "### Retreival Evaluation"
   ]
  },
  {
   "cell_type": "code",
   "execution_count": 4,
   "metadata": {},
   "outputs": [
    {
     "name": "stdout",
     "output_type": "stream",
     "text": [
      "Previous retrieval evaluation dataset deleted successfully.\n"
     ]
    },
    {
     "name": "stderr",
     "output_type": "stream",
     "text": [
      "  0%|          | 0/189 [00:00<?, ?it/s]huggingface/tokenizers: The current process just got forked, after parallelism has already been used. Disabling parallelism to avoid deadlocks...\n",
      "To disable this warning, you can either:\n",
      "\t- Avoid using `tokenizers` before the fork if possible\n",
      "\t- Explicitly set the environment variable TOKENIZERS_PARALLELISM=(true | false)\n",
      "100%|██████████| 189/189 [04:22<00:00,  1.39s/it]\n"
     ]
    },
    {
     "data": {
      "text/html": [
       "<div>\n",
       "<style scoped>\n",
       "    .dataframe tbody tr th:only-of-type {\n",
       "        vertical-align: middle;\n",
       "    }\n",
       "\n",
       "    .dataframe tbody tr th {\n",
       "        vertical-align: top;\n",
       "    }\n",
       "\n",
       "    .dataframe thead th {\n",
       "        text-align: right;\n",
       "    }\n",
       "</style>\n",
       "<table border=\"1\" class=\"dataframe\">\n",
       "  <thead>\n",
       "    <tr style=\"text-align: right;\">\n",
       "      <th></th>\n",
       "      <th>retrievers</th>\n",
       "      <th>hit_rate</th>\n",
       "      <th>mrr</th>\n",
       "    </tr>\n",
       "  </thead>\n",
       "  <tbody>\n",
       "    <tr>\n",
       "      <th>0</th>\n",
       "      <td>top-2 eval</td>\n",
       "      <td>0.624339</td>\n",
       "      <td>0.542328</td>\n",
       "    </tr>\n",
       "  </tbody>\n",
       "</table>\n",
       "</div>"
      ],
      "text/plain": [
       "   retrievers  hit_rate       mrr\n",
       "0  top-2 eval  0.624339  0.542328"
      ]
     },
     "execution_count": 4,
     "metadata": {},
     "output_type": "execute_result"
    }
   ],
   "source": [
    "import nest_asyncio\n",
    "from llama_index.core.evaluation import RetrieverEvaluator\n",
    "from llama_index.llms.openai import OpenAI\n",
    "from utils import display_retrieval_evaluation_results, create_retrieval_qa_dataset\n",
    "\n",
    "# Allows for nested async calls in Jupyter notebooks\n",
    "nest_asyncio.apply()\n",
    "\n",
    "# Define evaluation LLM\n",
    "evaluation_llm = OpenAI(temperature=0, model=\"gpt-4\")\n",
    "\n",
    "# Create QA dataset\n",
    "QA_DATASET_PATH = \"./qa_datasets/qa_dataset_2.json\"\n",
    "qa_dataset = create_retrieval_qa_dataset(nodes, evaluation_llm, QA_DATASET_PATH)\n",
    "\n",
    "# Evaluate QA dataset\n",
    "retriever_evaluator = RetrieverEvaluator.from_metric_names(\n",
    "    [\"mrr\", \"hit_rate\"], retriever=retriever\n",
    ")\n",
    "eval_results = await retriever_evaluator.aevaluate_dataset(qa_dataset)\n",
    "display_retrieval_evaluation_results(f\"top-{COUNT_NODES_RETRIEVED} eval\", eval_results)"
   ]
  },
  {
   "cell_type": "markdown",
   "metadata": {},
   "source": [
    "### Generation Evaluation"
   ]
  },
  {
   "cell_type": "markdown",
   "metadata": {},
   "source": [
    "#### Example evaluation"
   ]
  },
  {
   "cell_type": "code",
   "execution_count": 2,
   "metadata": {},
   "outputs": [
    {
     "ename": "NameError",
     "evalue": "name 'query_engine' is not defined",
     "output_type": "error",
     "traceback": [
      "\u001b[0;31m---------------------------------------------------------------------------\u001b[0m",
      "\u001b[0;31mNameError\u001b[0m                                 Traceback (most recent call last)",
      "Cell \u001b[0;32mIn[2], line 5\u001b[0m\n\u001b[1;32m      3\u001b[0m \u001b[38;5;66;03m# Example query and response \u001b[39;00m\n\u001b[1;32m      4\u001b[0m query \u001b[38;5;241m=\u001b[39m \u001b[38;5;124m\"\u001b[39m\u001b[38;5;124mWhat types of insurance are available?\u001b[39m\u001b[38;5;124m\"\u001b[39m\n\u001b[0;32m----> 5\u001b[0m response \u001b[38;5;241m=\u001b[39m \u001b[43mquery_engine\u001b[49m\u001b[38;5;241m.\u001b[39mquery(query)\n\u001b[1;32m      6\u001b[0m \u001b[38;5;28mprint\u001b[39m(response)\n\u001b[1;32m      8\u001b[0m \u001b[38;5;66;03m# Example Faithfulness evaluation\u001b[39;00m\n",
      "\u001b[0;31mNameError\u001b[0m: name 'query_engine' is not defined"
     ]
    }
   ],
   "source": [
    "from llama_index.core.evaluation import FaithfulnessEvaluator, AnswerRelevancyEvaluator, ContextRelevancyEvaluator\n",
    "\n",
    "# Define evaluation LLM\n",
    "evaluation_llm = OpenAI() # Ideally this should be a superior model to generation_llm (e.g. GPT-4), however due to rate limits on lower usage tiers, GPT-3.5 is used\n",
    "\n",
    "# Example query and response \n",
    "query = \"What types of insurance are available?\"\n",
    "response = query_engine.query(query)\n",
    "print(response)\n",
    "\n",
    "# Example Faithfulness evaluation\n",
    "faithfulness_evaluator = FaithfulnessEvaluator(llm=evaluation_llm)\n",
    "eval_result = faithfulness_evaluator.evaluate_response(query=query, response=response)\n",
    "print(\"Faithfulness: \" + str(eval_result.passing))\n",
    "\n",
    "# Example Relevancy evaluation\n",
    "relevancy_evaluator = AnswerRelevancyEvaluator(llm=evaluation_llm)\n",
    "eval_result = relevancy_evaluator.evaluate_response(query=query, response=response)\n",
    "print(\"Relevance: \" + str(eval_result.score))\n",
    "\n",
    "# Example Context evaluation\n",
    "context_evaluator = ContextRelevancyEvaluator(llm=evaluation_llm)\n",
    "eval_result = context_evaluator.evaluate_response(query=query, response=response)\n",
    "print(\"Context: \" + str(eval_result.score))"
   ]
  },
  {
   "cell_type": "markdown",
   "metadata": {},
   "source": [
    "#### Batch evaluation"
   ]
  },
  {
   "cell_type": "code",
   "execution_count": 5,
   "metadata": {},
   "outputs": [],
   "source": [
    "from utils import (\n",
    "    create_question_dataset, \n",
    "    create_prediction_dataset, \n",
    "    create_judges, \n",
    "    create_evaluation_tasks, \n",
    "    evaluate_tasks, \n",
    "    display_generation_evaluation_results\n",
    ")\n",
    "\n",
    "# Create rag question dataset    \n",
    "rag_dataset = create_question_dataset(nodes, evaluation_llm)"
   ]
  },
  {
   "cell_type": "code",
   "execution_count": 6,
   "metadata": {},
   "outputs": [
    {
     "name": "stderr",
     "output_type": "stream",
     "text": [
      "Batch processing of predictions: 100%|██████████| 10/10 [00:22<00:00,  2.21s/it]\n",
      "Batch processing of predictions: 100%|██████████| 10/10 [00:17<00:00,  1.80s/it]\n",
      "Batch processing of predictions: 100%|██████████| 10/10 [00:21<00:00,  2.19s/it]\n",
      "Batch processing of predictions: 100%|██████████| 10/10 [00:21<00:00,  2.18s/it]\n",
      "Batch processing of predictions: 100%|██████████| 10/10 [00:24<00:00,  2.50s/it]\n",
      "Batch processing of predictions: 100%|██████████| 10/10 [00:24<00:00,  2.47s/it]\n",
      "Batch processing of predictions: 100%|██████████| 10/10 [00:25<00:00,  2.58s/it]\n",
      "Batch processing of predictions: 100%|██████████| 10/10 [00:26<00:00,  2.61s/it]\n",
      "Batch processing of predictions: 100%|██████████| 10/10 [00:26<00:00,  2.60s/it]\n",
      "Batch processing of predictions: 100%|██████████| 10/10 [00:21<00:00,  2.15s/it]\n",
      "Batch processing of predictions: 100%|██████████| 10/10 [00:23<00:00,  2.32s/it]\n",
      "Batch processing of predictions: 100%|██████████| 10/10 [00:24<00:00,  2.42s/it]\n",
      "Batch processing of predictions: 100%|██████████| 10/10 [00:26<00:00,  2.67s/it]\n",
      "Batch processing of predictions: 100%|██████████| 10/10 [00:19<00:00,  1.91s/it]\n",
      "Batch processing of predictions: 100%|██████████| 10/10 [00:25<00:00,  2.56s/it]\n",
      "Batch processing of predictions: 100%|██████████| 10/10 [00:14<00:00,  1.48s/it]\n",
      "Batch processing of predictions: 100%|██████████| 10/10 [00:22<00:00,  2.23s/it]\n",
      "Batch processing of predictions: 100%|██████████| 10/10 [00:23<00:00,  2.36s/it]\n",
      "Batch processing of predictions: 100%|██████████| 10/10 [00:26<00:00,  2.61s/it]\n",
      "Batch processing of predictions: 100%|██████████| 10/10 [00:26<00:00,  2.63s/it]\n",
      "Batch processing of predictions: 100%|██████████| 10/10 [00:25<00:00,  2.50s/it]\n",
      "Batch processing of predictions: 100%|██████████| 10/10 [00:22<00:00,  2.28s/it]\n",
      "Batch processing of predictions: 100%|██████████| 10/10 [00:27<00:00,  2.78s/it]\n",
      "Batch processing of predictions: 100%|██████████| 10/10 [00:24<00:00,  2.49s/it]\n",
      "Batch processing of predictions: 100%|██████████| 10/10 [00:24<00:00,  2.40s/it]\n",
      "Batch processing of predictions: 100%|██████████| 10/10 [00:25<00:00,  2.51s/it]\n",
      "Batch processing of predictions: 100%|██████████| 10/10 [00:21<00:00,  2.15s/it]\n",
      "Batch processing of predictions: 100%|██████████| 10/10 [00:21<00:00,  2.10s/it]\n",
      "Batch processing of predictions: 100%|██████████| 10/10 [00:28<00:00,  2.83s/it]\n",
      "Batch processing of predictions: 100%|██████████| 10/10 [00:25<00:00,  2.54s/it]\n",
      "Batch processing of predictions: 100%|██████████| 10/10 [00:24<00:00,  2.40s/it]\n",
      "Batch processing of predictions: 100%|██████████| 10/10 [00:31<00:00,  3.13s/it]\n",
      "Batch processing of predictions: 100%|██████████| 10/10 [00:22<00:00,  2.22s/it]\n",
      "Batch processing of predictions: 100%|██████████| 10/10 [00:23<00:00,  2.32s/it]\n",
      "Batch processing of predictions: 100%|██████████| 10/10 [00:23<00:00,  2.35s/it]\n",
      "Batch processing of predictions: 100%|██████████| 10/10 [00:29<00:00,  2.93s/it]\n",
      "Batch processing of predictions: 100%|██████████| 10/10 [00:21<00:00,  2.16s/it]\n",
      "Batch processing of predictions: 100%|██████████| 8/8 [00:12<00:00,  1.62s/it]\n"
     ]
    }
   ],
   "source": [
    "# Create prediction dataset\n",
    "prediction_data = await create_prediction_dataset(rag_dataset, query_engine)"
   ]
  },
  {
   "cell_type": "code",
   "execution_count": 7,
   "metadata": {},
   "outputs": [],
   "source": [
    "# Create Evaluation tasks using evaluation LLM judge\n",
    "judges = create_judges(evaluation_llm)\n",
    "eval_tasks = create_evaluation_tasks(rag_dataset, prediction_data, judges)"
   ]
  },
  {
   "cell_type": "code",
   "execution_count": 8,
   "metadata": {},
   "outputs": [
    {
     "name": "stderr",
     "output_type": "stream",
     "text": [
      "Retrying llama_index.llms.openai.base.OpenAI._achat in 0.5434413177537917 seconds as it raised RateLimitError: Error code: 429 - {'error': {'message': 'Rate limit reached for gpt-3.5-turbo in organization org-M4tHPAmLSbtutEWD7DSkmcHM on tokens per min (TPM): Limit 60000, Used 59262, Requested 1040. Please try again in 302ms. Visit https://platform.openai.com/account/rate-limits to learn more.', 'type': 'tokens', 'param': None, 'code': 'rate_limit_exceeded'}}.\n",
      "Retrying llama_index.llms.openai.base.OpenAI._achat in 0.5826342051111667 seconds as it raised RateLimitError: Error code: 429 - {'error': {'message': 'Rate limit reached for gpt-3.5-turbo in organization org-M4tHPAmLSbtutEWD7DSkmcHM on tokens per min (TPM): Limit 60000, Used 59577, Requested 1353. Please try again in 930ms. Visit https://platform.openai.com/account/rate-limits to learn more.', 'type': 'tokens', 'param': None, 'code': 'rate_limit_exceeded'}}.\n",
      "Retrying llama_index.llms.openai.base.OpenAI._achat in 0.8822632696031505 seconds as it raised RateLimitError: Error code: 429 - {'error': {'message': 'Rate limit reached for gpt-3.5-turbo in organization org-M4tHPAmLSbtutEWD7DSkmcHM on tokens per min (TPM): Limit 60000, Used 59620, Requested 1185. Please try again in 805ms. Visit https://platform.openai.com/account/rate-limits to learn more.', 'type': 'tokens', 'param': None, 'code': 'rate_limit_exceeded'}}.\n",
      "100%|██████████| 10/10 [00:47<00:00,  4.77s/it]\n"
     ]
    }
   ],
   "source": [
    "# Evaluate tasks to get evaluation results\n",
    "eval_results = await evaluate_tasks(eval_tasks)"
   ]
  },
  {
   "cell_type": "code",
   "execution_count": 9,
   "metadata": {},
   "outputs": [
    {
     "data": {
      "text/html": [
       "<div>\n",
       "<style scoped>\n",
       "    .dataframe tbody tr th:only-of-type {\n",
       "        vertical-align: middle;\n",
       "    }\n",
       "\n",
       "    .dataframe tbody tr th {\n",
       "        vertical-align: top;\n",
       "    }\n",
       "\n",
       "    .dataframe thead th {\n",
       "        text-align: right;\n",
       "    }\n",
       "</style>\n",
       "<table border=\"1\" class=\"dataframe\">\n",
       "  <thead>\n",
       "    <tr style=\"text-align: right;\">\n",
       "      <th>rag</th>\n",
       "      <th>mean value</th>\n",
       "    </tr>\n",
       "    <tr>\n",
       "      <th>metrics</th>\n",
       "      <th></th>\n",
       "    </tr>\n",
       "  </thead>\n",
       "  <tbody>\n",
       "    <tr>\n",
       "      <th>mean_answer_relevancy_score</th>\n",
       "      <td>0.908730</td>\n",
       "    </tr>\n",
       "    <tr>\n",
       "      <th>mean_context_relevancy_score</th>\n",
       "      <td>0.844164</td>\n",
       "    </tr>\n",
       "    <tr>\n",
       "      <th>mean_faithfulness_score</th>\n",
       "      <td>0.835979</td>\n",
       "    </tr>\n",
       "    <tr>\n",
       "      <th>mean_semantic_similarity_score</th>\n",
       "      <td>0.893557</td>\n",
       "    </tr>\n",
       "  </tbody>\n",
       "</table>\n",
       "</div>"
      ],
      "text/plain": [
       "rag                             mean value\n",
       "metrics                                   \n",
       "mean_answer_relevancy_score       0.908730\n",
       "mean_context_relevancy_score      0.844164\n",
       "mean_faithfulness_score           0.835979\n",
       "mean_semantic_similarity_score    0.893557"
      ]
     },
     "execution_count": 9,
     "metadata": {},
     "output_type": "execute_result"
    }
   ],
   "source": [
    "# Display evaluation results\n",
    "display_generation_evaluation_results(eval_results)"
   ]
  }
 ],
 "metadata": {
  "kernelspec": {
   "display_name": ".venv",
   "language": "python",
   "name": "python3"
  },
  "language_info": {
   "codemirror_mode": {
    "name": "ipython",
    "version": 3
   },
   "file_extension": ".py",
   "mimetype": "text/x-python",
   "name": "python",
   "nbconvert_exporter": "python",
   "pygments_lexer": "ipython3",
   "version": "3.11.6"
  }
 },
 "nbformat": 4,
 "nbformat_minor": 2
}
