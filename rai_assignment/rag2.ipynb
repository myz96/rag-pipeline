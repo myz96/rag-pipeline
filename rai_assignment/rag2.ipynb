{
 "cells": [
  {
   "cell_type": "markdown",
   "metadata": {},
   "source": [
    "# RAG 2: Fast and Free \n",
    "The second RAG pipeline leverages open source and local technologies, optimising for fast performance and free implementation."
   ]
  },
  {
   "cell_type": "code",
   "execution_count": 1,
   "metadata": {},
   "outputs": [
    {
     "name": "stdout",
     "output_type": "stream",
     "text": [
      "Started /Users/mzhao/.cache/weaviate-embedded: process ID 35280\n"
     ]
    },
    {
     "name": "stderr",
     "output_type": "stream",
     "text": [
      "{\"action\":\"startup\",\"default_vectorizer_module\":\"none\",\"level\":\"info\",\"msg\":\"the default vectorizer modules is set to \\\"none\\\", as a result all new schema classes without an explicit vectorizer setting, will use this vectorizer\",\"time\":\"2024-04-16T13:23:30+10:00\"}\n",
      "{\"action\":\"startup\",\"auto_schema_enabled\":true,\"level\":\"info\",\"msg\":\"auto schema enabled setting is set to \\\"true\\\"\",\"time\":\"2024-04-16T13:23:30+10:00\"}\n",
      "{\"level\":\"info\",\"msg\":\"No resource limits set, weaviate will use all available memory and CPU. To limit resources, set LIMIT_RESOURCES=true\",\"time\":\"2024-04-16T13:23:30+10:00\"}\n",
      "{\"level\":\"warning\",\"msg\":\"Multiple vector spaces are present, GraphQL Explore and REST API list objects endpoint module include params has been disabled as a result.\",\"time\":\"2024-04-16T13:23:30+10:00\"}\n",
      "{\"action\":\"grpc_startup\",\"level\":\"info\",\"msg\":\"grpc server listening at [::]:50060\",\"time\":\"2024-04-16T13:23:30+10:00\"}\n",
      "{\"action\":\"restapi_management\",\"level\":\"info\",\"msg\":\"Serving weaviate at http://127.0.0.1:8079\",\"time\":\"2024-04-16T13:23:30+10:00\"}\n",
      "/Users/mzhao/sei/rai-assignment/.venv/lib/python3.11/site-packages/weaviate/warnings.py:121: DeprecationWarning: Dep005: You are using weaviate-client version 3.26.2. The latest version is 4.5.5.\n",
      "            Please consider upgrading to the latest version. See https://weaviate.io/developers/weaviate/client-libraries/python for details.\n",
      "  warnings.warn(\n",
      "{\"action\":\"lsm_recover_from_active_wal\",\"class\":\"PaulGraham2\",\"index\":\"paulgraham2\",\"level\":\"warning\",\"msg\":\"active write-ahead-log found. Did weaviate crash prior to this? Trying to recover...\",\"path\":\"/Users/mzhao/.local/share/weaviate/paulgraham2/ysA4qoc4ouef/lsm/objects/segment-1713233809216536000.wal\",\"shard\":\"ysA4qoc4ouef\",\"time\":\"2024-04-16T13:23:31+10:00\"}\n",
      "{\"action\":\"lsm_recover_from_active_wal_success\",\"class\":\"PaulGraham2\",\"index\":\"paulgraham2\",\"level\":\"info\",\"msg\":\"successfully recovered from write-ahead-log\",\"path\":\"/Users/mzhao/.local/share/weaviate/paulgraham2/ysA4qoc4ouef/lsm/objects/segment-1713233809216536000.wal\",\"shard\":\"ysA4qoc4ouef\",\"time\":\"2024-04-16T13:23:31+10:00\"}\n",
      "{\"action\":\"lsm_recover_from_active_wal\",\"class\":\"PaulGraham2\",\"index\":\"paulgraham2\",\"level\":\"warning\",\"msg\":\"active write-ahead-log found. Did weaviate crash prior to this? Trying to recover...\",\"path\":\"/Users/mzhao/.local/share/weaviate/paulgraham2/ysA4qoc4ouef/lsm/property_node_info/segment-1713233809218890000.wal\",\"shard\":\"ysA4qoc4ouef\",\"time\":\"2024-04-16T13:23:31+10:00\"}\n",
      "{\"action\":\"lsm_recover_from_active_wal\",\"class\":\"PaulGraham2\",\"index\":\"paulgraham2\",\"level\":\"warning\",\"msg\":\"active write-ahead-log found. Did weaviate crash prior to this? Trying to recover...\",\"path\":\"/Users/mzhao/.local/share/weaviate/paulgraham2/ysA4qoc4ouef/lsm/property__id/segment-1713233809222560000.wal\",\"shard\":\"ysA4qoc4ouef\",\"time\":\"2024-04-16T13:23:31+10:00\"}\n",
      "{\"action\":\"lsm_recover_from_active_wal\",\"class\":\"PaulGraham2\",\"index\":\"paulgraham2\",\"level\":\"warning\",\"msg\":\"active write-ahead-log found. Did weaviate crash prior to this? Trying to recover...\",\"path\":\"/Users/mzhao/.local/share/weaviate/paulgraham2/ysA4qoc4ouef/lsm/property_doc_id/segment-1713233809229944000.wal\",\"shard\":\"ysA4qoc4ouef\",\"time\":\"2024-04-16T13:23:31+10:00\"}\n",
      "{\"action\":\"lsm_recover_from_active_wal\",\"class\":\"PaulGraham2\",\"index\":\"paulgraham2\",\"level\":\"warning\",\"msg\":\"active write-ahead-log found. Did weaviate crash prior to this? Trying to recover...\",\"path\":\"/Users/mzhao/.local/share/weaviate/paulgraham2/ysA4qoc4ouef/lsm/property_last_modified_date/segment-1713233809223462000.wal\",\"shard\":\"ysA4qoc4ouef\",\"time\":\"2024-04-16T13:23:31+10:00\"}\n",
      "{\"action\":\"lsm_recover_from_active_wal_success\",\"class\":\"PaulGraham2\",\"index\":\"paulgraham2\",\"level\":\"info\",\"msg\":\"successfully recovered from write-ahead-log\",\"path\":\"/Users/mzhao/.local/share/weaviate/paulgraham2/ysA4qoc4ouef/lsm/property_node_info/segment-1713233809218890000.wal\",\"shard\":\"ysA4qoc4ouef\",\"time\":\"2024-04-16T13:23:31+10:00\"}\n",
      "{\"action\":\"lsm_recover_from_active_wal_success\",\"class\":\"PaulGraham2\",\"index\":\"paulgraham2\",\"level\":\"info\",\"msg\":\"successfully recovered from write-ahead-log\",\"path\":\"/Users/mzhao/.local/share/weaviate/paulgraham2/ysA4qoc4ouef/lsm/property_last_modified_date/segment-1713233809223462000.wal\",\"shard\":\"ysA4qoc4ouef\",\"time\":\"2024-04-16T13:23:31+10:00\"}\n",
      "{\"action\":\"lsm_recover_from_active_wal_success\",\"class\":\"PaulGraham2\",\"index\":\"paulgraham2\",\"level\":\"info\",\"msg\":\"successfully recovered from write-ahead-log\",\"path\":\"/Users/mzhao/.local/share/weaviate/paulgraham2/ysA4qoc4ouef/lsm/property__id/segment-1713233809222560000.wal\",\"shard\":\"ysA4qoc4ouef\",\"time\":\"2024-04-16T13:23:31+10:00\"}\n",
      "{\"action\":\"lsm_recover_from_active_wal_success\",\"class\":\"PaulGraham2\",\"index\":\"paulgraham2\",\"level\":\"info\",\"msg\":\"successfully recovered from write-ahead-log\",\"path\":\"/Users/mzhao/.local/share/weaviate/paulgraham2/ysA4qoc4ouef/lsm/property_doc_id/segment-1713233809229944000.wal\",\"shard\":\"ysA4qoc4ouef\",\"time\":\"2024-04-16T13:23:31+10:00\"}\n",
      "{\"action\":\"lsm_recover_from_active_wal\",\"class\":\"PaulGraham2\",\"index\":\"paulgraham2\",\"level\":\"warning\",\"msg\":\"active write-ahead-log found. Did weaviate crash prior to this? Trying to recover...\",\"path\":\"/Users/mzhao/.local/share/weaviate/paulgraham2/ysA4qoc4ouef/lsm/property_document_id/segment-1713233809229120000.wal\",\"shard\":\"ysA4qoc4ouef\",\"time\":\"2024-04-16T13:23:31+10:00\"}\n",
      "{\"action\":\"lsm_recover_from_active_wal\",\"class\":\"PaulGraham2\",\"index\":\"paulgraham2\",\"level\":\"warning\",\"msg\":\"active write-ahead-log found. Did weaviate crash prior to this? Trying to recover...\",\"path\":\"/Users/mzhao/.local/share/weaviate/paulgraham2/ysA4qoc4ouef/lsm/property_text/segment-1713233809225080000.wal\",\"shard\":\"ysA4qoc4ouef\",\"time\":\"2024-04-16T13:23:31+10:00\"}\n",
      "{\"action\":\"lsm_recover_from_active_wal_success\",\"class\":\"PaulGraham2\",\"index\":\"paulgraham2\",\"level\":\"info\",\"msg\":\"successfully recovered from write-ahead-log\",\"path\":\"/Users/mzhao/.local/share/weaviate/paulgraham2/ysA4qoc4ouef/lsm/property_text/segment-1713233809225080000.wal\",\"shard\":\"ysA4qoc4ouef\",\"time\":\"2024-04-16T13:23:31+10:00\"}\n",
      "{\"action\":\"lsm_recover_from_active_wal\",\"class\":\"PaulGraham2\",\"index\":\"paulgraham2\",\"level\":\"warning\",\"msg\":\"active write-ahead-log found. Did weaviate crash prior to this? Trying to recover...\",\"path\":\"/Users/mzhao/.local/share/weaviate/paulgraham2/ysA4qoc4ouef/lsm/property_file_path/segment-1713233809223376000.wal\",\"shard\":\"ysA4qoc4ouef\",\"time\":\"2024-04-16T13:23:31+10:00\"}\n",
      "{\"action\":\"lsm_recover_from_active_wal\",\"class\":\"PaulGraham2\",\"index\":\"paulgraham2\",\"level\":\"warning\",\"msg\":\"active write-ahead-log found. Did weaviate crash prior to this? Trying to recover...\",\"path\":\"/Users/mzhao/.local/share/weaviate/paulgraham2/ysA4qoc4ouef/lsm/property_node_info_searchable/segment-1713233809222487000.wal\",\"shard\":\"ysA4qoc4ouef\",\"time\":\"2024-04-16T13:23:31+10:00\"}\n",
      "{\"action\":\"lsm_recover_from_active_wal_success\",\"class\":\"PaulGraham2\",\"index\":\"paulgraham2\",\"level\":\"info\",\"msg\":\"successfully recovered from write-ahead-log\",\"path\":\"/Users/mzhao/.local/share/weaviate/paulgraham2/ysA4qoc4ouef/lsm/property_file_path/segment-1713233809223376000.wal\",\"shard\":\"ysA4qoc4ouef\",\"time\":\"2024-04-16T13:23:31+10:00\"}\n",
      "{\"action\":\"lsm_recover_from_active_wal_success\",\"class\":\"PaulGraham2\",\"index\":\"paulgraham2\",\"level\":\"info\",\"msg\":\"successfully recovered from write-ahead-log\",\"path\":\"/Users/mzhao/.local/share/weaviate/paulgraham2/ysA4qoc4ouef/lsm/property_document_id/segment-1713233809229120000.wal\",\"shard\":\"ysA4qoc4ouef\",\"time\":\"2024-04-16T13:23:31+10:00\"}\n",
      "{\"action\":\"lsm_recover_from_active_wal_success\",\"class\":\"PaulGraham2\",\"index\":\"paulgraham2\",\"level\":\"info\",\"msg\":\"successfully recovered from write-ahead-log\",\"path\":\"/Users/mzhao/.local/share/weaviate/paulgraham2/ysA4qoc4ouef/lsm/property_node_info_searchable/segment-1713233809222487000.wal\",\"shard\":\"ysA4qoc4ouef\",\"time\":\"2024-04-16T13:23:31+10:00\"}\n",
      "{\"action\":\"lsm_recover_from_active_wal\",\"class\":\"PaulGraham2\",\"index\":\"paulgraham2\",\"level\":\"warning\",\"msg\":\"active write-ahead-log found. Did weaviate crash prior to this? Trying to recover...\",\"path\":\"/Users/mzhao/.local/share/weaviate/paulgraham2/ysA4qoc4ouef/lsm/property_ref_doc_id/segment-1713233809227266000.wal\",\"shard\":\"ysA4qoc4ouef\",\"time\":\"2024-04-16T13:23:31+10:00\"}\n",
      "{\"action\":\"lsm_recover_from_active_wal_success\",\"class\":\"PaulGraham2\",\"index\":\"paulgraham2\",\"level\":\"info\",\"msg\":\"successfully recovered from write-ahead-log\",\"path\":\"/Users/mzhao/.local/share/weaviate/paulgraham2/ysA4qoc4ouef/lsm/property_ref_doc_id/segment-1713233809227266000.wal\",\"shard\":\"ysA4qoc4ouef\",\"time\":\"2024-04-16T13:23:31+10:00\"}\n",
      "{\"action\":\"lsm_recover_from_active_wal\",\"class\":\"PaulGraham2\",\"index\":\"paulgraham2\",\"level\":\"warning\",\"msg\":\"active write-ahead-log found. Did weaviate crash prior to this? Trying to recover...\",\"path\":\"/Users/mzhao/.local/share/weaviate/paulgraham2/ysA4qoc4ouef/lsm/property_file_name/segment-1713233809226281000.wal\",\"shard\":\"ysA4qoc4ouef\",\"time\":\"2024-04-16T13:23:31+10:00\"}\n",
      "{\"action\":\"lsm_recover_from_active_wal_success\",\"class\":\"PaulGraham2\",\"index\":\"paulgraham2\",\"level\":\"info\",\"msg\":\"successfully recovered from write-ahead-log\",\"path\":\"/Users/mzhao/.local/share/weaviate/paulgraham2/ysA4qoc4ouef/lsm/property_file_name/segment-1713233809226281000.wal\",\"shard\":\"ysA4qoc4ouef\",\"time\":\"2024-04-16T13:23:31+10:00\"}\n",
      "{\"action\":\"lsm_recover_from_active_wal\",\"class\":\"PaulGraham2\",\"index\":\"paulgraham2\",\"level\":\"warning\",\"msg\":\"active write-ahead-log found. Did weaviate crash prior to this? Trying to recover...\",\"path\":\"/Users/mzhao/.local/share/weaviate/paulgraham2/ysA4qoc4ouef/lsm/property_last_modified_date_searchable/segment-1713233809226226000.wal\",\"shard\":\"ysA4qoc4ouef\",\"time\":\"2024-04-16T13:23:31+10:00\"}\n",
      "{\"action\":\"lsm_recover_from_active_wal\",\"class\":\"PaulGraham2\",\"index\":\"paulgraham2\",\"level\":\"warning\",\"msg\":\"active write-ahead-log found. Did weaviate crash prior to this? Trying to recover...\",\"path\":\"/Users/mzhao/.local/share/weaviate/paulgraham2/ysA4qoc4ouef/lsm/property_text_searchable/segment-1713233809229077000.wal\",\"shard\":\"ysA4qoc4ouef\",\"time\":\"2024-04-16T13:23:31+10:00\"}\n",
      "{\"action\":\"lsm_recover_from_active_wal_success\",\"class\":\"PaulGraham2\",\"index\":\"paulgraham2\",\"level\":\"info\",\"msg\":\"successfully recovered from write-ahead-log\",\"path\":\"/Users/mzhao/.local/share/weaviate/paulgraham2/ysA4qoc4ouef/lsm/property_last_modified_date_searchable/segment-1713233809226226000.wal\",\"shard\":\"ysA4qoc4ouef\",\"time\":\"2024-04-16T13:23:31+10:00\"}\n",
      "{\"action\":\"lsm_recover_from_active_wal\",\"class\":\"PaulGraham2\",\"index\":\"paulgraham2\",\"level\":\"warning\",\"msg\":\"active write-ahead-log found. Did weaviate crash prior to this? Trying to recover...\",\"path\":\"/Users/mzhao/.local/share/weaviate/paulgraham2/ysA4qoc4ouef/lsm/property__node_type/segment-1713233809229622000.wal\",\"shard\":\"ysA4qoc4ouef\",\"time\":\"2024-04-16T13:23:31+10:00\"}\n",
      "{\"action\":\"lsm_recover_from_active_wal\",\"class\":\"PaulGraham2\",\"index\":\"paulgraham2\",\"level\":\"warning\",\"msg\":\"active write-ahead-log found. Did weaviate crash prior to this? Trying to recover...\",\"path\":\"/Users/mzhao/.local/share/weaviate/paulgraham2/ysA4qoc4ouef/lsm/property_file_size/segment-1713233809223610000.wal\",\"shard\":\"ysA4qoc4ouef\",\"time\":\"2024-04-16T13:23:31+10:00\"}\n",
      "{\"action\":\"lsm_recover_from_active_wal_success\",\"class\":\"PaulGraham2\",\"index\":\"paulgraham2\",\"level\":\"info\",\"msg\":\"successfully recovered from write-ahead-log\",\"path\":\"/Users/mzhao/.local/share/weaviate/paulgraham2/ysA4qoc4ouef/lsm/property_text_searchable/segment-1713233809229077000.wal\",\"shard\":\"ysA4qoc4ouef\",\"time\":\"2024-04-16T13:23:31+10:00\"}\n",
      "{\"action\":\"lsm_recover_from_active_wal\",\"class\":\"PaulGraham2\",\"index\":\"paulgraham2\",\"level\":\"warning\",\"msg\":\"active write-ahead-log found. Did weaviate crash prior to this? Trying to recover...\",\"path\":\"/Users/mzhao/.local/share/weaviate/paulgraham2/ysA4qoc4ouef/lsm/property__node_content/segment-1713233809222168000.wal\",\"shard\":\"ysA4qoc4ouef\",\"time\":\"2024-04-16T13:23:31+10:00\"}\n",
      "{\"action\":\"lsm_recover_from_active_wal_success\",\"class\":\"PaulGraham2\",\"index\":\"paulgraham2\",\"level\":\"info\",\"msg\":\"successfully recovered from write-ahead-log\",\"path\":\"/Users/mzhao/.local/share/weaviate/paulgraham2/ysA4qoc4ouef/lsm/property__node_type/segment-1713233809229622000.wal\",\"shard\":\"ysA4qoc4ouef\",\"time\":\"2024-04-16T13:23:31+10:00\"}\n",
      "{\"action\":\"lsm_recover_from_active_wal\",\"class\":\"PaulGraham2\",\"index\":\"paulgraham2\",\"level\":\"warning\",\"msg\":\"active write-ahead-log found. Did weaviate crash prior to this? Trying to recover...\",\"path\":\"/Users/mzhao/.local/share/weaviate/paulgraham2/ysA4qoc4ouef/lsm/property_file_type/segment-1713233809222659000.wal\",\"shard\":\"ysA4qoc4ouef\",\"time\":\"2024-04-16T13:23:31+10:00\"}\n",
      "{\"action\":\"lsm_recover_from_active_wal_success\",\"class\":\"PaulGraham2\",\"index\":\"paulgraham2\",\"level\":\"info\",\"msg\":\"successfully recovered from write-ahead-log\",\"path\":\"/Users/mzhao/.local/share/weaviate/paulgraham2/ysA4qoc4ouef/lsm/property_file_size/segment-1713233809223610000.wal\",\"shard\":\"ysA4qoc4ouef\",\"time\":\"2024-04-16T13:23:31+10:00\"}\n",
      "{\"action\":\"lsm_recover_from_active_wal_success\",\"class\":\"PaulGraham2\",\"index\":\"paulgraham2\",\"level\":\"info\",\"msg\":\"successfully recovered from write-ahead-log\",\"path\":\"/Users/mzhao/.local/share/weaviate/paulgraham2/ysA4qoc4ouef/lsm/property_file_type/segment-1713233809222659000.wal\",\"shard\":\"ysA4qoc4ouef\",\"time\":\"2024-04-16T13:23:31+10:00\"}\n",
      "{\"action\":\"lsm_recover_from_active_wal\",\"class\":\"PaulGraham2\",\"index\":\"paulgraham2\",\"level\":\"warning\",\"msg\":\"active write-ahead-log found. Did weaviate crash prior to this? Trying to recover...\",\"path\":\"/Users/mzhao/.local/share/weaviate/paulgraham2/ysA4qoc4ouef/lsm/property_file_path_searchable/segment-1713233809227318000.wal\",\"shard\":\"ysA4qoc4ouef\",\"time\":\"2024-04-16T13:23:31+10:00\"}\n",
      "{\"action\":\"lsm_recover_from_active_wal\",\"class\":\"PaulGraham2\",\"index\":\"paulgraham2\",\"level\":\"warning\",\"msg\":\"active write-ahead-log found. Did weaviate crash prior to this? Trying to recover...\",\"path\":\"/Users/mzhao/.local/share/weaviate/paulgraham2/ysA4qoc4ouef/lsm/property_relationships/segment-1713233809223965000.wal\",\"shard\":\"ysA4qoc4ouef\",\"time\":\"2024-04-16T13:23:31+10:00\"}\n",
      "{\"action\":\"lsm_recover_from_active_wal_success\",\"class\":\"PaulGraham2\",\"index\":\"paulgraham2\",\"level\":\"info\",\"msg\":\"successfully recovered from write-ahead-log\",\"path\":\"/Users/mzhao/.local/share/weaviate/paulgraham2/ysA4qoc4ouef/lsm/property__node_content/segment-1713233809222168000.wal\",\"shard\":\"ysA4qoc4ouef\",\"time\":\"2024-04-16T13:23:31+10:00\"}\n",
      "{\"action\":\"lsm_recover_from_active_wal_success\",\"class\":\"PaulGraham2\",\"index\":\"paulgraham2\",\"level\":\"info\",\"msg\":\"successfully recovered from write-ahead-log\",\"path\":\"/Users/mzhao/.local/share/weaviate/paulgraham2/ysA4qoc4ouef/lsm/property_relationships/segment-1713233809223965000.wal\",\"shard\":\"ysA4qoc4ouef\",\"time\":\"2024-04-16T13:23:31+10:00\"}\n",
      "{\"action\":\"lsm_recover_from_active_wal\",\"class\":\"PaulGraham2\",\"index\":\"paulgraham2\",\"level\":\"warning\",\"msg\":\"active write-ahead-log found. Did weaviate crash prior to this? Trying to recover...\",\"path\":\"/Users/mzhao/.local/share/weaviate/paulgraham2/ysA4qoc4ouef/lsm/property_ref_doc_id_searchable/segment-1713233809230561000.wal\",\"shard\":\"ysA4qoc4ouef\",\"time\":\"2024-04-16T13:23:31+10:00\"}\n",
      "{\"action\":\"lsm_recover_from_active_wal_success\",\"class\":\"PaulGraham2\",\"index\":\"paulgraham2\",\"level\":\"info\",\"msg\":\"successfully recovered from write-ahead-log\",\"path\":\"/Users/mzhao/.local/share/weaviate/paulgraham2/ysA4qoc4ouef/lsm/property_file_path_searchable/segment-1713233809227318000.wal\",\"shard\":\"ysA4qoc4ouef\",\"time\":\"2024-04-16T13:23:31+10:00\"}\n",
      "{\"action\":\"lsm_recover_from_active_wal_success\",\"class\":\"PaulGraham2\",\"index\":\"paulgraham2\",\"level\":\"info\",\"msg\":\"successfully recovered from write-ahead-log\",\"path\":\"/Users/mzhao/.local/share/weaviate/paulgraham2/ysA4qoc4ouef/lsm/property_ref_doc_id_searchable/segment-1713233809230561000.wal\",\"shard\":\"ysA4qoc4ouef\",\"time\":\"2024-04-16T13:23:31+10:00\"}\n",
      "{\"action\":\"lsm_recover_from_active_wal\",\"class\":\"PaulGraham2\",\"index\":\"paulgraham2\",\"level\":\"warning\",\"msg\":\"active write-ahead-log found. Did weaviate crash prior to this? Trying to recover...\",\"path\":\"/Users/mzhao/.local/share/weaviate/paulgraham2/ysA4qoc4ouef/lsm/property_file_name_searchable/segment-1713233809230012000.wal\",\"shard\":\"ysA4qoc4ouef\",\"time\":\"2024-04-16T13:23:31+10:00\"}\n",
      "{\"action\":\"lsm_recover_from_active_wal\",\"class\":\"PaulGraham2\",\"index\":\"paulgraham2\",\"level\":\"warning\",\"msg\":\"active write-ahead-log found. Did weaviate crash prior to this? Trying to recover...\",\"path\":\"/Users/mzhao/.local/share/weaviate/paulgraham2/ysA4qoc4ouef/lsm/property_creation_date/segment-1713233809222955000.wal\",\"shard\":\"ysA4qoc4ouef\",\"time\":\"2024-04-16T13:23:31+10:00\"}\n",
      "{\"action\":\"lsm_recover_from_active_wal_success\",\"class\":\"PaulGraham2\",\"index\":\"paulgraham2\",\"level\":\"info\",\"msg\":\"successfully recovered from write-ahead-log\",\"path\":\"/Users/mzhao/.local/share/weaviate/paulgraham2/ysA4qoc4ouef/lsm/property_file_name_searchable/segment-1713233809230012000.wal\",\"shard\":\"ysA4qoc4ouef\",\"time\":\"2024-04-16T13:23:31+10:00\"}\n",
      "{\"action\":\"lsm_recover_from_active_wal\",\"class\":\"PaulGraham2\",\"index\":\"paulgraham2\",\"level\":\"warning\",\"msg\":\"active write-ahead-log found. Did weaviate crash prior to this? Trying to recover...\",\"path\":\"/Users/mzhao/.local/share/weaviate/paulgraham2/ysA4qoc4ouef/lsm/property_relationships_searchable/segment-1713233809225774000.wal\",\"shard\":\"ysA4qoc4ouef\",\"time\":\"2024-04-16T13:23:31+10:00\"}\n",
      "{\"action\":\"lsm_recover_from_active_wal\",\"class\":\"PaulGraham2\",\"index\":\"paulgraham2\",\"level\":\"warning\",\"msg\":\"active write-ahead-log found. Did weaviate crash prior to this? Trying to recover...\",\"path\":\"/Users/mzhao/.local/share/weaviate/paulgraham2/ysA4qoc4ouef/lsm/property_file_type_searchable/segment-1713233809225067000.wal\",\"shard\":\"ysA4qoc4ouef\",\"time\":\"2024-04-16T13:23:31+10:00\"}\n",
      "{\"action\":\"lsm_recover_from_active_wal_success\",\"class\":\"PaulGraham2\",\"index\":\"paulgraham2\",\"level\":\"info\",\"msg\":\"successfully recovered from write-ahead-log\",\"path\":\"/Users/mzhao/.local/share/weaviate/paulgraham2/ysA4qoc4ouef/lsm/property_relationships_searchable/segment-1713233809225774000.wal\",\"shard\":\"ysA4qoc4ouef\",\"time\":\"2024-04-16T13:23:31+10:00\"}\n",
      "{\"action\":\"lsm_recover_from_active_wal_success\",\"class\":\"PaulGraham2\",\"index\":\"paulgraham2\",\"level\":\"info\",\"msg\":\"successfully recovered from write-ahead-log\",\"path\":\"/Users/mzhao/.local/share/weaviate/paulgraham2/ysA4qoc4ouef/lsm/property_file_type_searchable/segment-1713233809225067000.wal\",\"shard\":\"ysA4qoc4ouef\",\"time\":\"2024-04-16T13:23:31+10:00\"}\n",
      "{\"action\":\"lsm_recover_from_active_wal\",\"class\":\"PaulGraham2\",\"index\":\"paulgraham2\",\"level\":\"warning\",\"msg\":\"active write-ahead-log found. Did weaviate crash prior to this? Trying to recover...\",\"path\":\"/Users/mzhao/.local/share/weaviate/paulgraham2/ysA4qoc4ouef/lsm/property__node_type_searchable/segment-1713233809231103000.wal\",\"shard\":\"ysA4qoc4ouef\",\"time\":\"2024-04-16T13:23:31+10:00\"}\n",
      "{\"action\":\"lsm_recover_from_active_wal_success\",\"class\":\"PaulGraham2\",\"index\":\"paulgraham2\",\"level\":\"info\",\"msg\":\"successfully recovered from write-ahead-log\",\"path\":\"/Users/mzhao/.local/share/weaviate/paulgraham2/ysA4qoc4ouef/lsm/property_creation_date/segment-1713233809222955000.wal\",\"shard\":\"ysA4qoc4ouef\",\"time\":\"2024-04-16T13:23:31+10:00\"}\n",
      "{\"action\":\"lsm_recover_from_active_wal\",\"class\":\"PaulGraham2\",\"index\":\"paulgraham2\",\"level\":\"warning\",\"msg\":\"active write-ahead-log found. Did weaviate crash prior to this? Trying to recover...\",\"path\":\"/Users/mzhao/.local/share/weaviate/paulgraham2/ysA4qoc4ouef/lsm/property__node_content_searchable/segment-1713233809225413000.wal\",\"shard\":\"ysA4qoc4ouef\",\"time\":\"2024-04-16T13:23:31+10:00\"}\n",
      "{\"action\":\"lsm_recover_from_active_wal_success\",\"class\":\"PaulGraham2\",\"index\":\"paulgraham2\",\"level\":\"info\",\"msg\":\"successfully recovered from write-ahead-log\",\"path\":\"/Users/mzhao/.local/share/weaviate/paulgraham2/ysA4qoc4ouef/lsm/property__node_type_searchable/segment-1713233809231103000.wal\",\"shard\":\"ysA4qoc4ouef\",\"time\":\"2024-04-16T13:23:31+10:00\"}\n",
      "{\"action\":\"lsm_recover_from_active_wal_success\",\"class\":\"PaulGraham2\",\"index\":\"paulgraham2\",\"level\":\"info\",\"msg\":\"successfully recovered from write-ahead-log\",\"path\":\"/Users/mzhao/.local/share/weaviate/paulgraham2/ysA4qoc4ouef/lsm/property__node_content_searchable/segment-1713233809225413000.wal\",\"shard\":\"ysA4qoc4ouef\",\"time\":\"2024-04-16T13:23:31+10:00\"}\n",
      "{\"action\":\"lsm_recover_from_active_wal\",\"class\":\"PaulGraham2\",\"index\":\"paulgraham2\",\"level\":\"warning\",\"msg\":\"active write-ahead-log found. Did weaviate crash prior to this? Trying to recover...\",\"path\":\"/Users/mzhao/.local/share/weaviate/paulgraham2/ysA4qoc4ouef/lsm/property_creation_date_searchable/segment-1713233809229834000.wal\",\"shard\":\"ysA4qoc4ouef\",\"time\":\"2024-04-16T13:23:31+10:00\"}\n",
      "{\"action\":\"lsm_recover_from_active_wal_success\",\"class\":\"PaulGraham2\",\"index\":\"paulgraham2\",\"level\":\"info\",\"msg\":\"successfully recovered from write-ahead-log\",\"path\":\"/Users/mzhao/.local/share/weaviate/paulgraham2/ysA4qoc4ouef/lsm/property_creation_date_searchable/segment-1713233809229834000.wal\",\"shard\":\"ysA4qoc4ouef\",\"time\":\"2024-04-16T13:23:31+10:00\"}\n",
      "{\"level\":\"info\",\"msg\":\"Completed loading shard paulgraham2_ysA4qoc4ouef in 16.589041ms\",\"time\":\"2024-04-16T13:23:31+10:00\"}\n",
      "{\"action\":\"hnsw_vector_cache_prefill\",\"count\":3000,\"index_id\":\"main\",\"level\":\"info\",\"limit\":1000000000000,\"msg\":\"prefilled vector cache\",\"time\":\"2024-04-16T13:23:31+10:00\",\"took\":149959}\n",
      "{\"level\":\"info\",\"msg\":\"Created shard insurancepolicyindex_xM3nF1a0eOdK in 5.401834ms\",\"time\":\"2024-04-16T13:23:37+10:00\"}\n",
      "{\"action\":\"hnsw_vector_cache_prefill\",\"count\":1000,\"index_id\":\"main\",\"level\":\"info\",\"limit\":1000000000000,\"msg\":\"prefilled vector cache\",\"time\":\"2024-04-16T13:23:37+10:00\",\"took\":45167}\n"
     ]
    }
   ],
   "source": [
    "from llama_index.core import Settings\n",
    "from llama_index.core.embeddings import resolve_embed_model\n",
    "from llama_index.vector_stores.weaviate import WeaviateVectorStore\n",
    "from llama_index.llms.ollama import Ollama\n",
    "import weaviate\n",
    "from utils import load_documents, get_nodes, create_index\n",
    "\n",
    "DOCUMENTS_PATH = \"./source_documents/\"\n",
    "INDEX_NAME = \"InsurancePolicyIndex\" \n",
    "COUNT_NODES_RETRIEVED = 2\n",
    "DENSE_VECTOR_HYBRID_WEIGHTING = 0.5 \n",
    "\n",
    "# Define Weaviate client \n",
    "client = weaviate.Client(embedded_options=weaviate.EmbeddedOptions())\n",
    "\n",
    "# Delete existing index if exists\n",
    "client.schema.delete_class(INDEX_NAME)\n",
    "\n",
    "# Define and configure embedding and generation LLMs\n",
    "Settings.embed_model = resolve_embed_model(\"local:BAAI/bge-small-en-v1.5\") # Set embedding model globally to index and retrieve using the same model \n",
    "generation_llm  = Ollama(model=\"gemma:2b\", request_timeout=30.0)\n",
    "\n",
    "# Create Retriever\n",
    "documents = load_documents(DOCUMENTS_PATH)\n",
    "nodes = get_nodes(documents)\n",
    "vector_store = WeaviateVectorStore(weaviate_client=client, index_name=INDEX_NAME)\n",
    "index = create_index(nodes, vector_store)\n",
    "retriever = index.as_retriever()\n",
    "\n",
    "# Configure Query Engine\n",
    "query_engine = index.as_query_engine(\n",
    "    vector_store_query_mode = \"hybrid\", \n",
    "    alpha = DENSE_VECTOR_HYBRID_WEIGHTING,\n",
    "    llm = generation_llm,\n",
    "    similarity_top_k = COUNT_NODES_RETRIEVED, \n",
    ")"
   ]
  },
  {
   "cell_type": "code",
   "execution_count": 2,
   "metadata": {},
   "outputs": [
    {
     "name": "stdout",
     "output_type": "stream",
     "text": [
      "Sure, the query is about the types of insurance available. Based on the context information, the following types of insurance are available:\n",
      "\n",
      "• Comprehensive Plus Insurance\n",
      "• Comprehensive Insurance\n",
      "• Third Party Fire & Theft Insurance\n",
      "• Third Party Property Damage Insurance\n"
     ]
    }
   ],
   "source": [
    "response = query_engine.query(\"What types of insurance are available?\")\n",
    "print(response)"
   ]
  },
  {
   "cell_type": "markdown",
   "metadata": {},
   "source": [
    "# Pipeline Evaluation"
   ]
  },
  {
   "cell_type": "code",
   "execution_count": 3,
   "metadata": {},
   "outputs": [
    {
     "data": {
      "text/plain": [
       "True"
      ]
     },
     "execution_count": 3,
     "metadata": {},
     "output_type": "execute_result"
    }
   ],
   "source": [
    "# Load OPENAI_API_KEY from .env file for evaluation\n",
    "from dotenv import load_dotenv\n",
    "load_dotenv()"
   ]
  },
  {
   "cell_type": "markdown",
   "metadata": {},
   "source": [
    "### Retreival Evaluation"
   ]
  },
  {
   "cell_type": "code",
   "execution_count": 4,
   "metadata": {},
   "outputs": [
    {
     "name": "stdout",
     "output_type": "stream",
     "text": [
      "Previous retrieval evaluation dataset deleted successfully.\n"
     ]
    },
    {
     "name": "stderr",
     "output_type": "stream",
     "text": [
      "  0%|          | 0/187 [00:00<?, ?it/s]huggingface/tokenizers: The current process just got forked, after parallelism has already been used. Disabling parallelism to avoid deadlocks...\n",
      "To disable this warning, you can either:\n",
      "\t- Avoid using `tokenizers` before the fork if possible\n",
      "\t- Explicitly set the environment variable TOKENIZERS_PARALLELISM=(true | false)\n",
      "100%|██████████| 187/187 [03:03<00:00,  1.02it/s]\n"
     ]
    },
    {
     "data": {
      "text/html": [
       "<div>\n",
       "<style scoped>\n",
       "    .dataframe tbody tr th:only-of-type {\n",
       "        vertical-align: middle;\n",
       "    }\n",
       "\n",
       "    .dataframe tbody tr th {\n",
       "        vertical-align: top;\n",
       "    }\n",
       "\n",
       "    .dataframe thead th {\n",
       "        text-align: right;\n",
       "    }\n",
       "</style>\n",
       "<table border=\"1\" class=\"dataframe\">\n",
       "  <thead>\n",
       "    <tr style=\"text-align: right;\">\n",
       "      <th></th>\n",
       "      <th>retrievers</th>\n",
       "      <th>hit_rate</th>\n",
       "      <th>mrr</th>\n",
       "    </tr>\n",
       "  </thead>\n",
       "  <tbody>\n",
       "    <tr>\n",
       "      <th>0</th>\n",
       "      <td>top-2 eval</td>\n",
       "      <td>0.691176</td>\n",
       "      <td>0.612745</td>\n",
       "    </tr>\n",
       "  </tbody>\n",
       "</table>\n",
       "</div>"
      ],
      "text/plain": [
       "   retrievers  hit_rate       mrr\n",
       "0  top-2 eval  0.691176  0.612745"
      ]
     },
     "execution_count": 4,
     "metadata": {},
     "output_type": "execute_result"
    }
   ],
   "source": [
    "import nest_asyncio\n",
    "from llama_index.core.evaluation import RetrieverEvaluator\n",
    "from llama_index.llms.openai import OpenAI\n",
    "from utils import display_retrieval_evaluation_results, create_retrieval_qa_dataset\n",
    "\n",
    "# Allows for nested async calls in Jupyter notebooks\n",
    "nest_asyncio.apply()\n",
    "\n",
    "# Define evaluation LLM\n",
    "evaluation_llm = OpenAI(temperature=0) # Ideally this should be a superior model to generation_llm (e.g. GPT-4), however due costs and rate limits, GPT-3.5 is used\n",
    "\n",
    "# Create QA dataset\n",
    "QA_DATASET_PATH = \"./qa_datasets/qa_dataset_2.json\"\n",
    "qa_dataset = create_retrieval_qa_dataset(nodes, evaluation_llm, QA_DATASET_PATH)\n",
    "\n",
    "# Evaluate QA dataset\n",
    "retriever_evaluator = RetrieverEvaluator.from_metric_names(\n",
    "    [\"mrr\", \"hit_rate\"], retriever=retriever\n",
    ")\n",
    "eval_results = await retriever_evaluator.aevaluate_dataset(qa_dataset)\n",
    "display_retrieval_evaluation_results(f\"top-{COUNT_NODES_RETRIEVED} eval\", eval_results)"
   ]
  },
  {
   "cell_type": "markdown",
   "metadata": {},
   "source": [
    "### Generation Evaluation"
   ]
  },
  {
   "cell_type": "markdown",
   "metadata": {},
   "source": [
    "#### Example evaluation"
   ]
  },
  {
   "cell_type": "code",
   "execution_count": 5,
   "metadata": {},
   "outputs": [
    {
     "name": "stdout",
     "output_type": "stream",
     "text": [
      "The types of insurance available are:\n",
      "\n",
      "• Comprehensive Plus Insurance – our top cover\n",
      "• Comprehensive Insurance – our standard cover\n",
      "• Third Party Fire & Theft Insurance – our basic cover with some extras\n",
      "• Third Party Property Damage Insurance – our basic cover\n",
      "Faithfulness: True\n",
      "Relevance: 1.0\n",
      "Context: 1.0\n"
     ]
    }
   ],
   "source": [
    "from llama_index.core.evaluation import FaithfulnessEvaluator, AnswerRelevancyEvaluator, ContextRelevancyEvaluator\n",
    "\n",
    "# Example query and response \n",
    "query = \"What types of insurance are available?\"\n",
    "response = query_engine.query(query)\n",
    "print(response)\n",
    "\n",
    "# Example Faithfulness evaluation\n",
    "faithfulness_evaluator = FaithfulnessEvaluator(llm=evaluation_llm)\n",
    "eval_result = faithfulness_evaluator.evaluate_response(query=query, response=response)\n",
    "print(\"Faithfulness: \" + str(eval_result.passing))\n",
    "\n",
    "# Example Relevancy evaluation\n",
    "relevancy_evaluator = AnswerRelevancyEvaluator(llm=evaluation_llm)\n",
    "eval_result = relevancy_evaluator.evaluate_response(query=query, response=response)\n",
    "print(\"Relevance: \" + str(eval_result.score))\n",
    "\n",
    "# Example Context evaluation\n",
    "context_evaluator = ContextRelevancyEvaluator(llm=evaluation_llm)\n",
    "eval_result = context_evaluator.evaluate_response(query=query, response=response)\n",
    "print(\"Context: \" + str(eval_result.score))"
   ]
  },
  {
   "cell_type": "markdown",
   "metadata": {},
   "source": [
    "#### Batch evaluation"
   ]
  },
  {
   "cell_type": "code",
   "execution_count": 6,
   "metadata": {},
   "outputs": [],
   "source": [
    "from utils import (\n",
    "    create_question_dataset, \n",
    "    create_prediction_dataset, \n",
    "    create_judges, \n",
    "    create_evaluation_tasks, \n",
    "    evaluate_tasks, \n",
    "    display_generation_evaluation_results\n",
    ")\n",
    "\n",
    "# Create rag question dataset    \n",
    "rag_dataset = create_question_dataset(nodes, evaluation_llm)"
   ]
  },
  {
   "cell_type": "code",
   "execution_count": 7,
   "metadata": {},
   "outputs": [
    {
     "name": "stderr",
     "output_type": "stream",
     "text": [
      "Batch processing of predictions: 100%|██████████| 5/5 [00:20<00:00,  4.01s/it]\n",
      "Batch processing of predictions: 100%|██████████| 5/5 [00:16<00:00,  3.36s/it]\n",
      "Batch processing of predictions: 100%|██████████| 5/5 [00:20<00:00,  4.08s/it]\n",
      "Batch processing of predictions: 100%|██████████| 5/5 [00:20<00:00,  4.08s/it]\n",
      "Batch processing of predictions: 100%|██████████| 5/5 [00:25<00:00,  5.02s/it]\n",
      "Batch processing of predictions: 100%|██████████| 5/5 [00:20<00:00,  4.08s/it]\n",
      "Batch processing of predictions: 100%|██████████| 5/5 [00:22<00:00,  4.47s/it]\n",
      "Batch processing of predictions: 100%|██████████| 5/5 [00:19<00:00,  3.84s/it]\n",
      "Batch processing of predictions: 100%|██████████| 5/5 [00:22<00:00,  4.45s/it]\n",
      "Batch processing of predictions: 100%|██████████| 5/5 [00:20<00:00,  4.04s/it]\n",
      "Batch processing of predictions: 100%|██████████| 5/5 [00:21<00:00,  4.24s/it]\n",
      "Batch processing of predictions: 100%|██████████| 5/5 [00:22<00:00,  4.57s/it]\n",
      "Batch processing of predictions: 100%|██████████| 5/5 [00:23<00:00,  4.72s/it]\n",
      "Batch processing of predictions: 100%|██████████| 5/5 [00:19<00:00,  3.92s/it]\n",
      "Batch processing of predictions: 100%|██████████| 5/5 [00:20<00:00,  4.14s/it]\n",
      "Batch processing of predictions: 100%|██████████| 5/5 [00:17<00:00,  3.56s/it]\n",
      "Batch processing of predictions: 100%|██████████| 5/5 [00:19<00:00,  3.93s/it]\n",
      "Batch processing of predictions: 100%|██████████| 5/5 [00:23<00:00,  4.80s/it]\n",
      "Batch processing of predictions: 100%|██████████| 5/5 [00:23<00:00,  4.68s/it]\n",
      "Batch processing of predictions: 100%|██████████| 5/5 [00:23<00:00,  4.66s/it]\n",
      "Batch processing of predictions: 100%|██████████| 5/5 [00:22<00:00,  4.53s/it]\n",
      "Batch processing of predictions: 100%|██████████| 5/5 [00:22<00:00,  4.57s/it]\n",
      "Batch processing of predictions: 100%|██████████| 5/5 [00:23<00:00,  4.61s/it]\n",
      "Batch processing of predictions: 100%|██████████| 5/5 [00:22<00:00,  4.56s/it]\n",
      "Batch processing of predictions: 100%|██████████| 5/5 [00:20<00:00,  4.19s/it]\n",
      "Batch processing of predictions: 100%|██████████| 5/5 [00:24<00:00,  4.89s/it]\n",
      "Batch processing of predictions: 100%|██████████| 5/5 [00:19<00:00,  3.80s/it]\n",
      "Batch processing of predictions: 100%|██████████| 5/5 [00:19<00:00,  3.84s/it]\n",
      "Batch processing of predictions: 100%|██████████| 5/5 [00:22<00:00,  4.41s/it]\n",
      "Batch processing of predictions: 100%|██████████| 5/5 [00:21<00:00,  4.23s/it]\n",
      "Batch processing of predictions: 100%|██████████| 5/5 [00:22<00:00,  4.47s/it]\n",
      "Batch processing of predictions: 100%|██████████| 5/5 [00:23<00:00,  4.63s/it]\n",
      "Batch processing of predictions: 100%|██████████| 5/5 [00:21<00:00,  4.21s/it]\n",
      "Batch processing of predictions: 100%|██████████| 5/5 [00:20<00:00,  4.01s/it]\n",
      "Batch processing of predictions: 100%|██████████| 5/5 [00:21<00:00,  4.36s/it]\n",
      "Batch processing of predictions: 100%|██████████| 5/5 [00:23<00:00,  4.79s/it]\n",
      "Batch processing of predictions: 100%|██████████| 5/5 [00:18<00:00,  3.71s/it]\n",
      "Batch processing of predictions: 100%|██████████| 2/2 [00:12<00:00,  6.36s/it]\n"
     ]
    }
   ],
   "source": [
    "# Create prediction dataset\n",
    "prediction_data = await create_prediction_dataset(rag_dataset, query_engine)"
   ]
  },
  {
   "cell_type": "code",
   "execution_count": 8,
   "metadata": {},
   "outputs": [],
   "source": [
    "# Create Evaluation tasks using evaluation LLM judge\n",
    "judges = create_judges(evaluation_llm)\n",
    "eval_tasks = create_evaluation_tasks(rag_dataset, prediction_data, judges)"
   ]
  },
  {
   "cell_type": "code",
   "execution_count": 9,
   "metadata": {},
   "outputs": [],
   "source": [
    "# Evaluate tasks to get evaluation results\n",
    "eval_results = await evaluate_tasks(eval_tasks)"
   ]
  },
  {
   "cell_type": "code",
   "execution_count": 10,
   "metadata": {},
   "outputs": [
    {
     "data": {
      "text/html": [
       "<div>\n",
       "<style scoped>\n",
       "    .dataframe tbody tr th:only-of-type {\n",
       "        vertical-align: middle;\n",
       "    }\n",
       "\n",
       "    .dataframe tbody tr th {\n",
       "        vertical-align: top;\n",
       "    }\n",
       "\n",
       "    .dataframe thead th {\n",
       "        text-align: right;\n",
       "    }\n",
       "</style>\n",
       "<table border=\"1\" class=\"dataframe\">\n",
       "  <thead>\n",
       "    <tr style=\"text-align: right;\">\n",
       "      <th>rag</th>\n",
       "      <th>mean value</th>\n",
       "    </tr>\n",
       "    <tr>\n",
       "      <th>metrics</th>\n",
       "      <th></th>\n",
       "    </tr>\n",
       "  </thead>\n",
       "  <tbody>\n",
       "    <tr>\n",
       "      <th>mean_answer_relevancy_score</th>\n",
       "      <td>0.909091</td>\n",
       "    </tr>\n",
       "    <tr>\n",
       "      <th>mean_context_relevancy_score</th>\n",
       "      <td>0.869652</td>\n",
       "    </tr>\n",
       "    <tr>\n",
       "      <th>mean_faithfulness_score</th>\n",
       "      <td>0.834225</td>\n",
       "    </tr>\n",
       "    <tr>\n",
       "      <th>mean_semantic_similarity_score</th>\n",
       "      <td>0.904560</td>\n",
       "    </tr>\n",
       "  </tbody>\n",
       "</table>\n",
       "</div>"
      ],
      "text/plain": [
       "rag                             mean value\n",
       "metrics                                   \n",
       "mean_answer_relevancy_score       0.909091\n",
       "mean_context_relevancy_score      0.869652\n",
       "mean_faithfulness_score           0.834225\n",
       "mean_semantic_similarity_score    0.904560"
      ]
     },
     "execution_count": 10,
     "metadata": {},
     "output_type": "execute_result"
    }
   ],
   "source": [
    "# Display evaluation results\n",
    "display_generation_evaluation_results(eval_results)"
   ]
  }
 ],
 "metadata": {
  "kernelspec": {
   "display_name": ".venv",
   "language": "python",
   "name": "python3"
  },
  "language_info": {
   "codemirror_mode": {
    "name": "ipython",
    "version": 3
   },
   "file_extension": ".py",
   "mimetype": "text/x-python",
   "name": "python",
   "nbconvert_exporter": "python",
   "pygments_lexer": "ipython3",
   "version": "3.11.6"
  }
 },
 "nbformat": 4,
 "nbformat_minor": 2
}
